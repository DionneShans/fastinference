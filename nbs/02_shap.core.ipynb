{
 "cells": [
  {
   "cell_type": "code",
   "execution_count": null,
   "metadata": {},
   "outputs": [],
   "source": [
    "# default_exp tabular.shap.core"
   ]
  },
  {
   "cell_type": "markdown",
   "metadata": {},
   "source": [
    "# shap.core\n",
    "> This module contains helper functions for preparing the data for SHAP"
   ]
  },
  {
   "cell_type": "code",
   "execution_count": null,
   "metadata": {},
   "outputs": [],
   "source": [
    "#hide\n",
    "from nbdev.showdoc import *"
   ]
  },
  {
   "cell_type": "code",
   "execution_count": null,
   "metadata": {},
   "outputs": [],
   "source": [
    "#export\n",
    "from fastai.tabular.all import *"
   ]
  },
  {
   "cell_type": "code",
   "execution_count": null,
   "metadata": {},
   "outputs": [],
   "source": [
    "#export\n",
    "def _prepare_data(dl:TabDataLoader, n_samples: Optional[int]=None):\n",
    "    \"Prepares dataloader data for `SHAP`\"\n",
    "    # Try to avoid concatenate big dataframes -> Sample dataframe before merging them\n",
    "    if n_samples is not None and len(dl.cats) > n_samples:\n",
    "        cats_df = dl.cats.sample(n=n_samples)\n",
    "        conts_df = dl.conts.loc[cats_df.index]\n",
    "    else:\n",
    "        cats_df, conts_df = dl.cats, dl.conts\n",
    "        \n",
    "    return pd.merge(cats_df, conts_df, left_index=True, right_index=True)"
   ]
  },
  {
   "cell_type": "code",
   "execution_count": null,
   "metadata": {},
   "outputs": [],
   "source": [
    "#export\n",
    "def _prepare_test_data(learn:Learner, test_data=None, n_samples:int=128):\n",
    "    \"Prepares train and test data for `SHAP`, pass in a learner with optional data\"\n",
    "    user_provided_test_data = test_data is not None\n",
    "    if isinstance(test_data, pd.DataFrame):\n",
    "        dl = learn.dls.test_dl(test_data)\n",
    "    elif isinstance(test_data, TabDataLoader):\n",
    "        dl = test_data\n",
    "    elif test_data is None:\n",
    "        try:\n",
    "            dl = learn.dls[1]\n",
    "        except IndexError:\n",
    "            print('No validation dataloader, using `train`')\n",
    "            dl = learn.dls[0]\n",
    "    else:\n",
    "        raise ValueError('Input is not supported. Please use either a `DataFrame` or `TabularDataLoader`')\n",
    "    \n",
    "    return _prepare_data(dl, None if user_provided_test_data else n_samples)\n"
   ]
  },
  {
   "cell_type": "code",
   "execution_count": null,
   "metadata": {},
   "outputs": [],
   "source": [
    "#export\n",
    "def _predict(learn:TabularLearner, data:np.array):\n",
    "    \"Predict function for some data on a fastai model\"\n",
    "    device = 'cuda' if torch.cuda.is_available() else 'cpu'\n",
    "    model = learn.model.to(device)\n",
    "    dl = learn.dls[0]\n",
    "    nb_cat_cols = len(dl.dataset.cat_names)\n",
    "    nb_cont_cols = len(dl.dataset.cont_names)\n",
    "    x_cat = torch.from_numpy(data[:, :nb_cat_cols]).to(device, torch.int64)\n",
    "    x_cont = torch.from_numpy(data[:, -nb_cont_cols:]).to(device, torch.float32)\n",
    "    with torch.no_grad():\n",
    "        pred_probs = learn.model(x_cat, x_cont).cpu().numpy()\n",
    "    return pred_probs"
   ]
  },
  {
   "cell_type": "code",
   "execution_count": null,
   "metadata": {},
   "outputs": [],
   "source": []
  }
 ],
 "metadata": {
  "kernelspec": {
   "display_name": "Python 3",
   "language": "python",
   "name": "python3"
  }
 },
 "nbformat": 4,
 "nbformat_minor": 4
}
