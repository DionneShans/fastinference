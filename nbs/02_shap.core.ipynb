{
 "cells": [
  {
   "cell_type": "code",
   "execution_count": null,
   "metadata": {},
   "outputs": [],
   "source": [
    "# default_exp tabular.shap.core"
   ]
  },
  {
   "cell_type": "markdown",
   "metadata": {},
   "source": [
    "# shap.core\n",
    "> This module contains helper functions for preparing the data for SHAP"
   ]
  },
  {
   "cell_type": "code",
   "execution_count": null,
   "metadata": {},
   "outputs": [],
   "source": [
    "#export\n",
    "from fastinference.soft_dependencies import SoftDependencies\n",
    "if not SoftDependencies.check()['interp']:\n",
    "    raise ImportError(\"The interp module is not installed.\")"
   ]
  },
  {
   "cell_type": "code",
   "execution_count": null,
   "metadata": {},
   "outputs": [],
   "source": [
    "#hide\n",
    "from nbdev.showdoc import *"
   ]
  },
  {
   "cell_type": "code",
   "execution_count": null,
   "metadata": {},
   "outputs": [],
   "source": [
    "#export\n",
    "from fastai2.tabular.all import *"
   ]
  },
  {
   "cell_type": "code",
   "execution_count": null,
   "metadata": {},
   "outputs": [],
   "source": [
    "#export\n",
    "def _prepare_data(learn:Learner, test_data=None, n_samples:int=128):\n",
    "    \"Prepares train and test data for `SHAP`, pass in a learner with optional data\"\n",
    "    no_user_provided_test_data = test_data is None\n",
    "    if isinstance(test_data, pd.DataFrame):\n",
    "        dl = learn.dls.test_dl(test_data)\n",
    "    elif isinstance(test_data, TabDataLoader):\n",
    "        dl = test_data\n",
    "    elif test_data is None:\n",
    "        try:\n",
    "            dl = learn.dls[1]\n",
    "        except IndexError:\n",
    "            print('No validation dataloader, using `train`')\n",
    "            dl = learn.dls[0]\n",
    "    else:\n",
    "        raise ValueError('Input is not supported. Please use either a `DataFrame` or `TabularDataLoader`')\n",
    "    test_data = pd.merge(dl.cats, dl.conts, left_index=True, right_index=True)\n",
    "    return test_data.sample(n=n_samples) if ((len(test_data) > n_samples) and no_user_provided_test_data) else test_data"
   ]
  },
  {
   "cell_type": "code",
   "execution_count": null,
   "metadata": {},
   "outputs": [],
   "source": [
    "#export\n",
    "def _predict(learn:TabularLearner, data:np.array):\n",
    "    \"Predict function for some data on a fastai model\"\n",
    "    device = 'cuda' if torch.cuda.is_available() else 'cpu'\n",
    "    model = learn.model.to(device)\n",
    "    dl = learn.dls[0]\n",
    "    nb_cat_cols = len(dl.dataset.cat_names)\n",
    "    nb_cont_cols = len(dl.dataset.cont_names)\n",
    "    x_cat = torch.from_numpy(data[:, :nb_cat_cols]).to(device, torch.int64)\n",
    "    x_cont = torch.from_numpy(data[:, -nb_cont_cols:]).to(device, torch.float32)\n",
    "    with torch.no_grad():\n",
    "        pred_probs = learn.model(x_cat, x_cont).cpu().numpy()\n",
    "    return pred_probs"
   ]
  },
  {
   "cell_type": "code",
   "execution_count": null,
   "metadata": {},
   "outputs": [],
   "source": []
  }
 ],
 "metadata": {
  "kernelspec": {
   "display_name": "Python 3",
   "language": "python",
   "name": "python3"
  }
 },
 "nbformat": 4,
 "nbformat_minor": 4
}
