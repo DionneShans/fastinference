{
 "cells": [
  {
   "cell_type": "code",
   "execution_count": null,
   "metadata": {},
   "outputs": [],
   "source": [
    "# default_exp tabular.waterfall"
   ]
  },
  {
   "cell_type": "markdown",
   "metadata": {},
   "source": [
    "# tabular.waterfall\n",
    "> This module calculates and plots waterfall chart, this entire module was made by Pavel (Pak)"
   ]
  },
  {
   "cell_type": "code",
   "execution_count": null,
   "metadata": {},
   "outputs": [],
   "source": [
    "#hide\n",
    "from nbdev.showdoc import *"
   ]
  },
  {
   "cell_type": "code",
   "execution_count": null,
   "metadata": {},
   "outputs": [],
   "source": [
    "#export\n",
    "from fastai2.tabular.all import *\n",
    "from fastinference.tabular.core import *"
   ]
  },
  {
   "cell_type": "code",
   "execution_count": null,
   "metadata": {},
   "outputs": [],
   "source": [
    "#export\n",
    "from IPython.display import clear_output"
   ]
  },
  {
   "cell_type": "code",
   "execution_count": null,
   "metadata": {},
   "outputs": [],
   "source": [
    "#export\n",
    "import plotly.graph_objects as go"
   ]
  },
  {
   "cell_type": "markdown",
   "metadata": {},
   "source": [
    "First let's train a model to analyze"
   ]
  },
  {
   "cell_type": "code",
   "execution_count": null,
   "metadata": {},
   "outputs": [],
   "source": [
    "path = untar_data(URLs.ADULT_SAMPLE)\n",
    "df = pd.read_csv(path/'adult.csv')"
   ]
  },
  {
   "cell_type": "code",
   "execution_count": null,
   "metadata": {},
   "outputs": [],
   "source": [
    "dep_var = 'salary'\n",
    "cat_names = ['workclass', 'education', 'marital-status', 'occupation', 'relationship', 'race']\n",
    "cont_names = ['age', 'fnlwgt', 'education-num']\n",
    "procs = [Categorify, FillMissing, Normalize]"
   ]
  },
  {
   "cell_type": "code",
   "execution_count": null,
   "metadata": {},
   "outputs": [],
   "source": [
    "splits = IndexSplitter(list(range(800,1000)))(range_of(df))\n",
    "to = TabularPandas(df, procs, cat_names, cont_names, y_names=\"salary\", splits=splits)\n",
    "dls = to.dataloaders()"
   ]
  },
  {
   "cell_type": "code",
   "execution_count": null,
   "metadata": {},
   "outputs": [
    {
     "data": {
      "text/html": [
       "<table border=\"1\" class=\"dataframe\">\n",
       "  <thead>\n",
       "    <tr style=\"text-align: left;\">\n",
       "      <th>epoch</th>\n",
       "      <th>train_loss</th>\n",
       "      <th>valid_loss</th>\n",
       "      <th>accuracy</th>\n",
       "      <th>time</th>\n",
       "    </tr>\n",
       "  </thead>\n",
       "  <tbody>\n",
       "    <tr>\n",
       "      <td>0</td>\n",
       "      <td>0.379724</td>\n",
       "      <td>0.376351</td>\n",
       "      <td>0.815000</td>\n",
       "      <td>00:04</td>\n",
       "    </tr>\n",
       "  </tbody>\n",
       "</table>"
      ],
      "text/plain": [
       "<IPython.core.display.HTML object>"
      ]
     },
     "metadata": {},
     "output_type": "display_data"
    }
   ],
   "source": [
    "learn = tabular_learner(dls, layers=[200,100], metrics=accuracy)\n",
    "learn.fit(1, 1e-2)"
   ]
  },
  {
   "cell_type": "code",
   "execution_count": null,
   "metadata": {},
   "outputs": [],
   "source": [
    "#export\n",
    "class InterpretWaterfall(Interpret):\n",
    "    def __init__(self, learn, df, fields, sampl_row, max_row_used=None, use_log=False, use_int=False, num_tests=1):\n",
    "        \"\"\"\n",
    "        Calculate all the parameters to plot Waterfall graph for a `sampl_row`\n",
    "        fields -- list of lists of columns to analyze, connected columns should be in the same list element (as a list)\n",
    "\n",
    "        max_row_used -- how many rows to use for calculation. len(df) -- by default\n",
    "            Can be absolute value or coeffficient (from the len(df))\n",
    "            On big datasets can easily be set to lower values as it's enough data for calculating\n",
    "            differences anyway. 10k rows is often enough\n",
    "        num_tests -- id used to reduce memory consumption, each run uses `max_row_used/num_tests` rows, the more\n",
    "            'num_tests' the less memory consumption is\n",
    "        use_log=True is needed if we have transformed depended variable into log\n",
    "        use_int=True is needed if we want to log-detransformed (exponented) var to me integer not float\n",
    "        \"\"\"\n",
    "\n",
    "        super().__init__(learn, df)\n",
    "        self.fields = fields\n",
    "        self.sampl_row = sampl_row\n",
    "        self.use_log = use_log\n",
    "        self.use_int = use_int\n",
    "        self.num_tests = num_tests\n",
    "\n",
    "        if isNone(max_row_used) or (max_row_used > len(df)):\n",
    "            self.max_row_used = int(len(df) / num_tests)\n",
    "        elif (max_row_used < 1):\n",
    "            self.max_row_used = int(len(df) * max_row_used / num_tests)\n",
    "        else:\n",
    "            self.max_row_used = int(max_row_used / num_tests)\n",
    "\n",
    "        print(\"hold on...\")\n",
    "        self.model_mean = np.array(self.learn.get_preds(dl=self.learn.dls.test_dl(df))[0].T[0]).mean()\n",
    "        clear_output()\n",
    "        self.actual = self._predict_row(row=sampl_row)\n",
    "        self.forces = None\n",
    "        self.batch_forces = None\n",
    "\n",
    "        self._calc_forces_repeats()\n",
    "\n",
    "    def _shuffle_cols(self, sampl_col):\n",
    "        \"\"\"\n",
    "        Returns all the variations of sampl_col columns for a particular row sampl_row.\n",
    "        (what would be if he had all other values in sampl_col columns)\n",
    "        Copy all the columns except sampl_col from sampl_row max_row_used times.\n",
    "        Then add random sampl_col from original distribution\n",
    "        max_row_used can be < 1, in that case it's a portion of len(df)\n",
    "        \"\"\"\n",
    "        df, learn, sampl_row, max_row_used = self.df, self.learn, self.sampl_row, self.max_row_used\n",
    "\n",
    "        sampl_col = listify(sampl_col)\n",
    "        rows = [sampl_row.to_dict()] * max_row_used  # performance optimization\n",
    "        temp_df = pd.DataFrame(rows)\n",
    "        shfl_cols = df[sampl_col].sample(max_row_used).copy()\n",
    "        temp_df[sampl_col] = shfl_cols.values\n",
    "        return temp_df\n",
    "\n",
    "    def _calc_forces(self):\n",
    "        \"\"\"\n",
    "        Calculate ordered dict with forces created by certain feature values for particular row\n",
    "        :return:\n",
    "        ordered dict of sorted forces\n",
    "        \"\"\"\n",
    "        df, learn, sampl_row, model_mean, fields, max_row_used = self.df, self.learn, self.sampl_row, self.model_mean, self.fields, self.max_row_used\n",
    "\n",
    "        forces = OrderedDict()\n",
    "        # build big table with all the variants to check all the data in one run\n",
    "        huge_df = pd.DataFrame()\n",
    "        cur_dfs = []\n",
    "        for field in fields:\n",
    "            cur_df = self._shuffle_cols(sampl_col=field)\n",
    "            cur_df['group'] = self._list_to_key(field)\n",
    "            cur_dfs.append(cur_df)\n",
    "\n",
    "        huge_df = pd.concat(cur_dfs)\n",
    "        del cur_dfs\n",
    "\n",
    "        # predict on it\n",
    "        huge_df['preds'] = self._predict_df(df=huge_df)\n",
    "        # predict actual data (just predict sampl_row)\n",
    "        actual = self._predict_row(row=sampl_row)\n",
    "\n",
    "        # divide back by fields\n",
    "        for field in fields:\n",
    "            cur_df = huge_df.query(f\"group == '{self._list_to_key(field)}'\")\n",
    "            # calculate force\n",
    "            force = float(actual - cur_df['preds'].mean())\n",
    "            key = f\"{field} ({sampl_row[field]})\" if isinstance(field, str) else ', '.join(\n",
    "                f\"{e} ({sampl_row[e]})\" for e in field)\n",
    "            forces[key] = force\n",
    "\n",
    "        self.batch_forces = OrderedDict(sorted(forces.items(), key=lambda kv: abs(kv[1]), reverse=True))\n",
    "\n",
    "    def _calc_forces_repeats(self):\n",
    "        \"\"\"\n",
    "        Repeat _calc_forces to avg the data and save memory\n",
    "        \"\"\"\n",
    "        num_tests = self.num_tests\n",
    "        forces = pd.DataFrame()\n",
    "        for tests in progress_bar(range(num_tests)):\n",
    "            self._calc_forces()\n",
    "            forces = forces.append(self.batch_forces, ignore_index=True)\n",
    "        clear_output()\n",
    "\n",
    "        forces = forces.mean()\n",
    "        fc_od = OrderedDict()\n",
    "        for k, v in forces.iteritems():\n",
    "            fc_od[k] = v\n",
    "\n",
    "        self.forces = OrderedDict(sorted(fc_od.items(), key=lambda kv: abs(kv[1]), reverse=True))\n",
    "\n",
    "    def _conv_exp(self, value, use_log=False, use_int=False):\n",
    "        \"\"\"\n",
    "        Use exponent and convert to integer if needed\n",
    "        \"\"\"\n",
    "        ret_val = value if (use_log == False) else np.exp(value)\n",
    "        np_int = int if np.isscalar(ret_val) else np.vectorize(np.int)\n",
    "        ret_val = ret_val if (use_int == False) else np_int(ret_val)\n",
    "        return ret_val\n",
    "    \n",
    "    def _explain_forces(self, forces_show=10):\n",
    "        \"\"\"\n",
    "        :return:\n",
    "        explained diff (remember 0 expl_diff doent mean no expl in you have 2 explanations with + and -)\n",
    "        unknown_diff\n",
    "        \"\"\"\n",
    "\n",
    "        def conv_perc(val):\n",
    "            return (val - 1) * 100\n",
    "\n",
    "        forces, model_mean, actual, use_log, use_int = self.forces, self.model_mean, self.actual, self.use_log, self.use_int\n",
    "        expl_diff = np.array(list(forces.values())).sum()\n",
    "        unk_diff = actual - (model_mean + expl_diff)\n",
    "\n",
    "        i = 0\n",
    "        expl_df = pd.DataFrame(columns=['feature', 'coef', 'diff_perc', 'overall_diff', 'overall'])\n",
    "        # unexplainable value of diff in prices, used in waterfall\n",
    "        last_price = 0\n",
    "        price = self._conv_exp(model_mean, use_log=use_log, use_int=use_int)\n",
    "        expl_df = expl_df.append(pd.DataFrame(\n",
    "            {'feature': 'model_mean', 'coef': 0, 'diff_perc': 0, 'overall_diff': price - last_price, 'overall': price},\n",
    "            index=[len(expl_df)]))\n",
    "        last_price = price\n",
    "        for key, value in forces.items():\n",
    "            if (i >= forces_show):\n",
    "                break\n",
    "            coef = self._conv_exp(value, use_log=use_log)\n",
    "            price = int(price * coef) if (use_int == True) else price * (1+coef)\n",
    "            diff = conv_perc(coef) if (use_int == True) else coef*100\n",
    "            expl_df = expl_df.append(pd.DataFrame(\n",
    "                {'feature': key, 'coef': coef, 'diff_perc': diff, 'overall_diff': price - last_price, 'overall': price},\n",
    "                index=[len(expl_df)]))\n",
    "            last_price = price\n",
    "            i += 1\n",
    "        actl_price = self._conv_exp(actual, use_log=use_log, use_int=use_int)\n",
    "        coef = actl_price / price\n",
    "        diff = conv_perc(coef)\n",
    "        expl_df = expl_df.append(\n",
    "            pd.DataFrame(\n",
    "                {\n",
    "                    'feature': 'others and interconnections', 'coef': coef, 'diff_perc': diff,\n",
    "                    'overall_diff': actl_price - last_price, 'overall': actl_price\n",
    "                }, index=[len(expl_df)]\n",
    "            )\n",
    "        )\n",
    "\n",
    "        return expl_df\n",
    "\n",
    "    def _plot_force_df_coef(self, force_df, name=None):\n",
    "        \"\"\"\n",
    "        Plot forced with coef column (useful in regressions)\n",
    "        \"\"\"\n",
    "        height = max(600, int(len(force_df) / 3 * 100))\n",
    "\n",
    "        measure = [\"relative\"] * len(force_df)\n",
    "        x, text, y = [], [], []\n",
    "        for i, row in force_df.iterrows():\n",
    "            y.append(row['feature'][:100])\n",
    "            text.append(f\"{row['overall']} ({row['diff_perc']:+.2f}%)\")\n",
    "            x.append(row['diff_perc'])\n",
    "\n",
    "        fig = go.Figure(go.Waterfall(\n",
    "            name=\"20\", orientation=\"h\",\n",
    "            measure=[\"relative\"] * len(force_df),\n",
    "            x=x,\n",
    "            textposition=\"outside\",\n",
    "            text=text,\n",
    "            y=y,\n",
    "            connector={\"line\": {\"color\": \"rgb(63, 63, 63)\"}},\n",
    "        ))\n",
    "\n",
    "        title = \"Analysis \" if isNone(name) else f\"Analysis of {name}\"\n",
    "        fig.update_layout(\n",
    "            title=title,\n",
    "            showlegend=False,\n",
    "            height=height,\n",
    "        )\n",
    "        fig.update_yaxes(showticklabels=False)\n",
    "\n",
    "        return fig\n",
    "    \n",
    "    \n",
    "    def _plot_force_df_perc(self, force_df, name=None):\n",
    "        \"\"\"\n",
    "        Plot forced with perc column (useful in classifications)\n",
    "        \"\"\"\n",
    "        height = max(600, int(len(force_df) / 3 * 100))\n",
    "        x, text, y = [], [], []\n",
    "        for i, row in force_df.iterrows():\n",
    "            y.append(row['feature'][:100])\n",
    "            text.append(f\"{row['overall']} ({row['diff_perc']:+.2f}%)\")\n",
    "            x.append(row['overall_diff'])\n",
    "\n",
    "        fig = go.Figure(go.Waterfall(\n",
    "            name=\"20\", orientation=\"h\",\n",
    "            measure=[\"relative\"] * len(force_df),\n",
    "            x=x,\n",
    "            textposition=\"outside\",\n",
    "            text=text,\n",
    "            y=y,\n",
    "            connector={\"line\": {\"color\": \"rgb(63, 63, 63)\"}},\n",
    "        ))\n",
    "\n",
    "        title = \"Analysis \" if isNone(name) else f\"Analysis of {name}\"\n",
    "        fig.update_layout(\n",
    "            title=title,\n",
    "            showlegend=False,\n",
    "            height=height,\n",
    "        )\n",
    "        fig.update_yaxes(showticklabels=False)\n",
    "\n",
    "        return fig\n",
    "\n",
    "    def get_forces_fig(self, name=None, forces_show=20):\n",
    "        \"\"\"\n",
    "        Get the force field calculated earlier as plotly figure\n",
    "        \"\"\"\n",
    "        use_log = self.use_log\n",
    "        df = self._explain_forces(forces_show=forces_show)\n",
    "        if (use_log == True):\n",
    "            return self._plot_force_df(force_df=df, name=name)\n",
    "        else: \n",
    "            return self._plot_force_df_perc(force_df=df, name=name)\n",
    "\n",
    "    def plot_forces(self, name=None, forces_show=20):\n",
    "        \"\"\"\n",
    "        Plot the force field calculated earlier as dynamic json-frame\n",
    "        \"\"\"\n",
    "        fig = self.get_forces_fig(name=name, forces_show=forces_show)\n",
    "        fig.show()\n",
    "\n",
    "    def get_forces(self):\n",
    "        \"\"\"\n",
    "        Returns forces as an Ordered Dict\n",
    "        \"\"\"\n",
    "        return self.forces\n",
    "    \n",
    "    def get_variants_pd(self, fields):\n",
    "        \"\"\"\n",
    "        returns df with all the values of dep_var for every variant of fields\n",
    "        helps to determine best value of fields for particular item\n",
    "        \"\"\"\n",
    "        use_log, use_int = self.use_log, self.use_int\n",
    "        sampl_row = self.sampl_row\n",
    "        uniqs, variants = self._uniq_cols(sampl_row=sampl_row, fields=fields)\n",
    "        preds = self._predict_df(df=variants)\n",
    "        dep_var = self._get_dep_var()\n",
    "        uniqs[dep_var] = self._conv_exp(value=preds, use_log=use_log, use_int=use_int)\n",
    "        result = pd.DataFrame([], columns=['feature', dep_var, 'times'])\n",
    "        for i, row in uniqs.iterrows():\n",
    "            feats = self._list_to_key(list(row[fields]))\n",
    "            result = result.append({'feature':feats, dep_var:row[dep_var], 'times':row['counts']}, ignore_index=True)\n",
    "        return result.sort_values(by=dep_var, ascending=False)\n",
    "        \n",
    "    \n",
    "    def _uniq_cols(self, sampl_row, fields):\n",
    "        \"\"\"\n",
    "        Returns df with all unique values in `fields` other values are copied from `sampl_row`\n",
    "        \"\"\"\n",
    "        df, learn, sampl_row, max_row_used = self.df, self.learn, self.sampl_row, self.max_row_used\n",
    "        max_rows = int(self.max_row_used*self.num_tests)\n",
    "        \n",
    "        uniqs = df.groupby(fields).size().reset_index(name='counts')\n",
    "        uniqs = uniqs.sort_values(by='counts', ascending=False)\n",
    "        uniqs = uniqs.head(max_rows)\n",
    "        \n",
    "        temp_df = pd.DataFrame([sampl_row.to_dict()] * len(uniqs))\n",
    "        temp_df[fields] = uniqs[fields].values\n",
    "        return uniqs, temp_df\n",
    "    \n",
    "    def plot_variants(self, fields, limit=20, asc=False):\n",
    "        \"\"\"\n",
    "        Plots how every variant of fields influences dep_var for a particular item\n",
    "        helps to determine best value of fields for particular column `fields`\n",
    "        \"\"\"\n",
    "\n",
    "        def prepare_colors(df_pd: pd.DataFrame):\n",
    "            heat_min = df_pd['times'].min()\n",
    "            heat_max = df_pd['times'].max()\n",
    "            dif = heat_max - heat_min\n",
    "            colors = [((times - heat_min) / (dif), (times - heat_min) / (4 * dif), 0.75) for times in df_pd['times']]\n",
    "            return colors\n",
    "        use_int = self.use_int\n",
    "        df = self.get_variants_pd(fields=fields)\n",
    "        dep_var = self._get_dep_var()\n",
    "\n",
    "        df['feature'] = df['feature'].str.slice(0, 45)\n",
    "        df = df.sort_values(by=dep_var, ascending=asc)[:limit].sort_values(by=dep_var, ascending=not (asc))\n",
    "        colors = prepare_colors(df_pd=df)\n",
    "        ax = df.plot.barh(x=\"feature\", y=dep_var, sort_columns=True, figsize=(10, 10), color=colors)\n",
    "        ax.set_ylabel(fields)\n",
    "        for (p, t) in zip(ax.patches, df['times']):\n",
    "            frmt = f'{p.get_width():.0f}' if (use_int == True) else f'{p.get_width():.4f}' \n",
    "            ax.annotate(frmt, ((p.get_width() * 1.005), p.get_y() * 1.005))\n",
    "            ax.annotate(f'{int(t)}', ((p.get_width() * .45), p.get_y() + 0.1), color='white', weight='bold')"
   ]
  },
  {
   "cell_type": "markdown",
   "metadata": {},
   "source": [
    "How does this version calculate each columns part.\n",
    "- Calculate mean prediction for all the dataset. It will be the starting point for price of an indivilual row to shift from\n",
    "- For every column calculate the difference between this row prediction and a mean prediction of this column shuffled (how this particular column for a certain values in other columns shifts the dep_var and in what direction)\n",
    "- Assume that sum of these differences can be transfered as forces onthe first meran predictions\n",
    "- Plot these forces"
   ]
  },
  {
   "cell_type": "markdown",
   "metadata": {},
   "source": [
    ">This class allows you to calculate and plot Waterfall graph. Also in can be useful in determining and vizualizing what is the best value of particular feature for a given row of data. \n",
    "Calculate all the parameters to plot Waterfall graph for a `sampl_row`\n",
    "- `fields` \n",
    "        list of lists of columns to analyze, connected columns should be in the same list element (as a list)\n",
    "- `sampl_row`\n",
    "        row that is analyzed\n",
    "- `max_row_used`\n",
    "        how many rows to use for calculation. len(df) -- by default\n",
    "        Can be absolute value or coeffficient (from the len(df))\n",
    "        On big datasets can easily be set to lower values as it's enough data for calculating differences anyway. 10k rows is often enough\n",
    "- `num_tests`\n",
    "        is used to reduce memory consumption, each run uses `max_row_used/num_tests` rows, the more 'num_tests' the less memory consumption is\n",
    "- `use_log=True `\n",
    "        is needed if we have transformed depended variable into log\n",
    "- `use_int=True` \n",
    "        is needed if we want to log-detransformed (exponented) var to me integer not float"
   ]
  },
  {
   "cell_type": "code",
   "execution_count": null,
   "metadata": {},
   "outputs": [],
   "source": [
    "fields = cat_names+cont_names"
   ]
  },
  {
   "cell_type": "code",
   "execution_count": null,
   "metadata": {},
   "outputs": [],
   "source": [
    "cur_item = df.iloc[10]"
   ]
  },
  {
   "cell_type": "code",
   "execution_count": null,
   "metadata": {},
   "outputs": [
    {
     "data": {
      "text/plain": [
       "age                           23\n",
       "workclass                Private\n",
       "fnlwgt                    529223\n",
       "education              Bachelors\n",
       "education-num                 13\n",
       "marital-status     Never-married\n",
       "occupation                   NaN\n",
       "relationship           Own-child\n",
       "race                       Black\n",
       "sex                         Male\n",
       "capital-gain                   0\n",
       "capital-loss                   0\n",
       "hours-per-week                10\n",
       "native-country     United-States\n",
       "salary                      <50k\n",
       "Name: 10, dtype: object"
      ]
     },
     "execution_count": null,
     "metadata": {},
     "output_type": "execute_result"
    }
   ],
   "source": [
    "cur_item"
   ]
  },
  {
   "cell_type": "markdown",
   "metadata": {},
   "source": [
    "`education` and`education-num` are 100% correlated feature, we totally should group them"
   ]
  },
  {
   "cell_type": "code",
   "execution_count": null,
   "metadata": {},
   "outputs": [],
   "source": [
    "fields = ['workclass', 'education', 'marital-status', 'occupation', 'relationship', 'race', 'age', 'fnlwgt', 'education-num']"
   ]
  },
  {
   "cell_type": "code",
   "execution_count": null,
   "metadata": {},
   "outputs": [
    {
     "data": {
      "text/html": [
       "['workclass', 'education', 'marital-status', 'occupation', 'relationship', 'race', 'education-num_na', 'age', 'fnlwgt', 'education-num']"
      ],
      "text/plain": [
       "['workclass',\n",
       " 'education',\n",
       " 'marital-status',\n",
       " 'occupation',\n",
       " 'relationship',\n",
       " 'race',\n",
       " 'education-num_na',\n",
       " 'age',\n",
       " 'fnlwgt',\n",
       " 'education-num']"
      ]
     },
     "execution_count": null,
     "metadata": {},
     "output_type": "execute_result"
    }
   ],
   "source": [
    "cat_names+cont_names"
   ]
  },
  {
   "cell_type": "code",
   "execution_count": null,
   "metadata": {},
   "outputs": [],
   "source": [
    "wf = InterpretWaterfall(learn=learn, df=df, fields=fields, \n",
    "                        sampl_row=cur_item, max_row_used=0.1)"
   ]
  },
  {
   "cell_type": "code",
   "execution_count": null,
   "metadata": {},
   "outputs": [
    {
     "data": {
      "text/plain": [
       "OrderedDict([('age (23)', 0.06515264511108398),\n",
       "             ('relationship ( Own-child)', 0.055278122425079346),\n",
       "             ('marital-status ( Never-married)', 0.04917985200881958),\n",
       "             ('occupation (nan)', 0.010632991790771484),\n",
       "             ('race ( Black)', 0.009711861610412598),\n",
       "             ('workclass ( Private)', 0.006488978862762451),\n",
       "             ('fnlwgt (529223)', 0.004645705223083496),\n",
       "             ('education-num (13.0)', -0.0036606788635253906),\n",
       "             ('education ( Bachelors)', -0.0036478042602539062)])"
      ]
     },
     "execution_count": null,
     "metadata": {},
     "output_type": "execute_result"
    }
   ],
   "source": [
    "wf.get_forces()"
   ]
  },
  {
   "cell_type": "code",
   "execution_count": null,
   "metadata": {},
   "outputs": [
    {
     "data": {
      "text/plain": [
       "OrderedDict([('marital-status ( Never-married)', 0.1224508285522461),\n",
       "             ('age (23)', 0.034715473651885986),\n",
       "             ('relationship ( Own-child)', 0.02508723735809326),\n",
       "             ('race ( Black)', 0.022664785385131836),\n",
       "             ('occupation (nan)', 0.005818426609039307),\n",
       "             ('education-num (13.0)', -0.004229605197906494),\n",
       "             ('education ( Bachelors)', -0.0018289685249328613),\n",
       "             ('workclass ( Private)', 0.0007967352867126465),\n",
       "             ('fnlwgt (529223)', 0.0002853274345397949)])"
      ]
     },
     "execution_count": null,
     "metadata": {},
     "output_type": "execute_result"
    }
   ],
   "source": [
    "wf.get_forces()"
   ]
  },
  {
   "cell_type": "code",
   "execution_count": null,
   "metadata": {},
   "outputs": [
    {
     "data": {
      "application/vnd.plotly.v1+json": {
       "config": {
        "plotlyServerURL": "https://plot.ly"
       },
       "data": [
        {
         "connector": {
          "line": {
           "color": "rgb(63, 63, 63)"
          }
         },
         "measure": [
          "relative",
          "relative",
          "relative",
          "relative",
          "relative",
          "relative",
          "relative",
          "relative",
          "relative",
          "relative"
         ],
         "name": "20",
         "orientation": "h",
         "text": [
          "0.741679847240448 (+0.00%)",
          "0.8334867560315473 (+12.38%)",
          "0.9319242142088406 (+11.81%)",
          "1.0094915056325664 (+8.32%)",
          "1.023728480029226 (+1.41%)",
          "1.0318451016997419 (+0.79%)",
          "1.0237499238215393 (-0.78%)",
          "1.0267216100232375 (+0.29%)",
          "1.028047206403156 (+0.13%)",
          "0.9809720516204834 (-4.58%)"
         ],
         "textposition": "outside",
         "type": "waterfall",
         "x": [
          0.741679847240448,
          0.09180690879109932,
          0.09843745817729332,
          0.07756729142372576,
          0.014236974396659496,
          0.008116621670515967,
          -0.008095177878202575,
          0.002971686201698187,
          0.001325596379918581,
          -0.04707515478267266
         ],
         "y": [
          "model_mean",
          "age (23)",
          "relationship ( Own-child)",
          "marital-status ( Never-married)",
          "occupation (nan)",
          "race ( Black)",
          "education ( Bachelors), education-num (13.0)",
          "workclass ( Private)",
          "fnlwgt (529223)",
          "others and interconnections"
         ]
        }
       ],
       "layout": {
        "height": 600,
        "showlegend": false,
        "template": {
         "data": {
          "bar": [
           {
            "error_x": {
             "color": "#2a3f5f"
            },
            "error_y": {
             "color": "#2a3f5f"
            },
            "marker": {
             "line": {
              "color": "#E5ECF6",
              "width": 0.5
             }
            },
            "type": "bar"
           }
          ],
          "barpolar": [
           {
            "marker": {
             "line": {
              "color": "#E5ECF6",
              "width": 0.5
             }
            },
            "type": "barpolar"
           }
          ],
          "carpet": [
           {
            "aaxis": {
             "endlinecolor": "#2a3f5f",
             "gridcolor": "white",
             "linecolor": "white",
             "minorgridcolor": "white",
             "startlinecolor": "#2a3f5f"
            },
            "baxis": {
             "endlinecolor": "#2a3f5f",
             "gridcolor": "white",
             "linecolor": "white",
             "minorgridcolor": "white",
             "startlinecolor": "#2a3f5f"
            },
            "type": "carpet"
           }
          ],
          "choropleth": [
           {
            "colorbar": {
             "outlinewidth": 0,
             "ticks": ""
            },
            "type": "choropleth"
           }
          ],
          "contour": [
           {
            "colorbar": {
             "outlinewidth": 0,
             "ticks": ""
            },
            "colorscale": [
             [
              0,
              "#0d0887"
             ],
             [
              0.1111111111111111,
              "#46039f"
             ],
             [
              0.2222222222222222,
              "#7201a8"
             ],
             [
              0.3333333333333333,
              "#9c179e"
             ],
             [
              0.4444444444444444,
              "#bd3786"
             ],
             [
              0.5555555555555556,
              "#d8576b"
             ],
             [
              0.6666666666666666,
              "#ed7953"
             ],
             [
              0.7777777777777778,
              "#fb9f3a"
             ],
             [
              0.8888888888888888,
              "#fdca26"
             ],
             [
              1,
              "#f0f921"
             ]
            ],
            "type": "contour"
           }
          ],
          "contourcarpet": [
           {
            "colorbar": {
             "outlinewidth": 0,
             "ticks": ""
            },
            "type": "contourcarpet"
           }
          ],
          "heatmap": [
           {
            "colorbar": {
             "outlinewidth": 0,
             "ticks": ""
            },
            "colorscale": [
             [
              0,
              "#0d0887"
             ],
             [
              0.1111111111111111,
              "#46039f"
             ],
             [
              0.2222222222222222,
              "#7201a8"
             ],
             [
              0.3333333333333333,
              "#9c179e"
             ],
             [
              0.4444444444444444,
              "#bd3786"
             ],
             [
              0.5555555555555556,
              "#d8576b"
             ],
             [
              0.6666666666666666,
              "#ed7953"
             ],
             [
              0.7777777777777778,
              "#fb9f3a"
             ],
             [
              0.8888888888888888,
              "#fdca26"
             ],
             [
              1,
              "#f0f921"
             ]
            ],
            "type": "heatmap"
           }
          ],
          "heatmapgl": [
           {
            "colorbar": {
             "outlinewidth": 0,
             "ticks": ""
            },
            "colorscale": [
             [
              0,
              "#0d0887"
             ],
             [
              0.1111111111111111,
              "#46039f"
             ],
             [
              0.2222222222222222,
              "#7201a8"
             ],
             [
              0.3333333333333333,
              "#9c179e"
             ],
             [
              0.4444444444444444,
              "#bd3786"
             ],
             [
              0.5555555555555556,
              "#d8576b"
             ],
             [
              0.6666666666666666,
              "#ed7953"
             ],
             [
              0.7777777777777778,
              "#fb9f3a"
             ],
             [
              0.8888888888888888,
              "#fdca26"
             ],
             [
              1,
              "#f0f921"
             ]
            ],
            "type": "heatmapgl"
           }
          ],
          "histogram": [
           {
            "marker": {
             "colorbar": {
              "outlinewidth": 0,
              "ticks": ""
             }
            },
            "type": "histogram"
           }
          ],
          "histogram2d": [
           {
            "colorbar": {
             "outlinewidth": 0,
             "ticks": ""
            },
            "colorscale": [
             [
              0,
              "#0d0887"
             ],
             [
              0.1111111111111111,
              "#46039f"
             ],
             [
              0.2222222222222222,
              "#7201a8"
             ],
             [
              0.3333333333333333,
              "#9c179e"
             ],
             [
              0.4444444444444444,
              "#bd3786"
             ],
             [
              0.5555555555555556,
              "#d8576b"
             ],
             [
              0.6666666666666666,
              "#ed7953"
             ],
             [
              0.7777777777777778,
              "#fb9f3a"
             ],
             [
              0.8888888888888888,
              "#fdca26"
             ],
             [
              1,
              "#f0f921"
             ]
            ],
            "type": "histogram2d"
           }
          ],
          "histogram2dcontour": [
           {
            "colorbar": {
             "outlinewidth": 0,
             "ticks": ""
            },
            "colorscale": [
             [
              0,
              "#0d0887"
             ],
             [
              0.1111111111111111,
              "#46039f"
             ],
             [
              0.2222222222222222,
              "#7201a8"
             ],
             [
              0.3333333333333333,
              "#9c179e"
             ],
             [
              0.4444444444444444,
              "#bd3786"
             ],
             [
              0.5555555555555556,
              "#d8576b"
             ],
             [
              0.6666666666666666,
              "#ed7953"
             ],
             [
              0.7777777777777778,
              "#fb9f3a"
             ],
             [
              0.8888888888888888,
              "#fdca26"
             ],
             [
              1,
              "#f0f921"
             ]
            ],
            "type": "histogram2dcontour"
           }
          ],
          "mesh3d": [
           {
            "colorbar": {
             "outlinewidth": 0,
             "ticks": ""
            },
            "type": "mesh3d"
           }
          ],
          "parcoords": [
           {
            "line": {
             "colorbar": {
              "outlinewidth": 0,
              "ticks": ""
             }
            },
            "type": "parcoords"
           }
          ],
          "pie": [
           {
            "automargin": true,
            "type": "pie"
           }
          ],
          "scatter": [
           {
            "marker": {
             "colorbar": {
              "outlinewidth": 0,
              "ticks": ""
             }
            },
            "type": "scatter"
           }
          ],
          "scatter3d": [
           {
            "line": {
             "colorbar": {
              "outlinewidth": 0,
              "ticks": ""
             }
            },
            "marker": {
             "colorbar": {
              "outlinewidth": 0,
              "ticks": ""
             }
            },
            "type": "scatter3d"
           }
          ],
          "scattercarpet": [
           {
            "marker": {
             "colorbar": {
              "outlinewidth": 0,
              "ticks": ""
             }
            },
            "type": "scattercarpet"
           }
          ],
          "scattergeo": [
           {
            "marker": {
             "colorbar": {
              "outlinewidth": 0,
              "ticks": ""
             }
            },
            "type": "scattergeo"
           }
          ],
          "scattergl": [
           {
            "marker": {
             "colorbar": {
              "outlinewidth": 0,
              "ticks": ""
             }
            },
            "type": "scattergl"
           }
          ],
          "scattermapbox": [
           {
            "marker": {
             "colorbar": {
              "outlinewidth": 0,
              "ticks": ""
             }
            },
            "type": "scattermapbox"
           }
          ],
          "scatterpolar": [
           {
            "marker": {
             "colorbar": {
              "outlinewidth": 0,
              "ticks": ""
             }
            },
            "type": "scatterpolar"
           }
          ],
          "scatterpolargl": [
           {
            "marker": {
             "colorbar": {
              "outlinewidth": 0,
              "ticks": ""
             }
            },
            "type": "scatterpolargl"
           }
          ],
          "scatterternary": [
           {
            "marker": {
             "colorbar": {
              "outlinewidth": 0,
              "ticks": ""
             }
            },
            "type": "scatterternary"
           }
          ],
          "surface": [
           {
            "colorbar": {
             "outlinewidth": 0,
             "ticks": ""
            },
            "colorscale": [
             [
              0,
              "#0d0887"
             ],
             [
              0.1111111111111111,
              "#46039f"
             ],
             [
              0.2222222222222222,
              "#7201a8"
             ],
             [
              0.3333333333333333,
              "#9c179e"
             ],
             [
              0.4444444444444444,
              "#bd3786"
             ],
             [
              0.5555555555555556,
              "#d8576b"
             ],
             [
              0.6666666666666666,
              "#ed7953"
             ],
             [
              0.7777777777777778,
              "#fb9f3a"
             ],
             [
              0.8888888888888888,
              "#fdca26"
             ],
             [
              1,
              "#f0f921"
             ]
            ],
            "type": "surface"
           }
          ],
          "table": [
           {
            "cells": {
             "fill": {
              "color": "#EBF0F8"
             },
             "line": {
              "color": "white"
             }
            },
            "header": {
             "fill": {
              "color": "#C8D4E3"
             },
             "line": {
              "color": "white"
             }
            },
            "type": "table"
           }
          ]
         },
         "layout": {
          "annotationdefaults": {
           "arrowcolor": "#2a3f5f",
           "arrowhead": 0,
           "arrowwidth": 1
          },
          "coloraxis": {
           "colorbar": {
            "outlinewidth": 0,
            "ticks": ""
           }
          },
          "colorscale": {
           "diverging": [
            [
             0,
             "#8e0152"
            ],
            [
             0.1,
             "#c51b7d"
            ],
            [
             0.2,
             "#de77ae"
            ],
            [
             0.3,
             "#f1b6da"
            ],
            [
             0.4,
             "#fde0ef"
            ],
            [
             0.5,
             "#f7f7f7"
            ],
            [
             0.6,
             "#e6f5d0"
            ],
            [
             0.7,
             "#b8e186"
            ],
            [
             0.8,
             "#7fbc41"
            ],
            [
             0.9,
             "#4d9221"
            ],
            [
             1,
             "#276419"
            ]
           ],
           "sequential": [
            [
             0,
             "#0d0887"
            ],
            [
             0.1111111111111111,
             "#46039f"
            ],
            [
             0.2222222222222222,
             "#7201a8"
            ],
            [
             0.3333333333333333,
             "#9c179e"
            ],
            [
             0.4444444444444444,
             "#bd3786"
            ],
            [
             0.5555555555555556,
             "#d8576b"
            ],
            [
             0.6666666666666666,
             "#ed7953"
            ],
            [
             0.7777777777777778,
             "#fb9f3a"
            ],
            [
             0.8888888888888888,
             "#fdca26"
            ],
            [
             1,
             "#f0f921"
            ]
           ],
           "sequentialminus": [
            [
             0,
             "#0d0887"
            ],
            [
             0.1111111111111111,
             "#46039f"
            ],
            [
             0.2222222222222222,
             "#7201a8"
            ],
            [
             0.3333333333333333,
             "#9c179e"
            ],
            [
             0.4444444444444444,
             "#bd3786"
            ],
            [
             0.5555555555555556,
             "#d8576b"
            ],
            [
             0.6666666666666666,
             "#ed7953"
            ],
            [
             0.7777777777777778,
             "#fb9f3a"
            ],
            [
             0.8888888888888888,
             "#fdca26"
            ],
            [
             1,
             "#f0f921"
            ]
           ]
          },
          "colorway": [
           "#636efa",
           "#EF553B",
           "#00cc96",
           "#ab63fa",
           "#FFA15A",
           "#19d3f3",
           "#FF6692",
           "#B6E880",
           "#FF97FF",
           "#FECB52"
          ],
          "font": {
           "color": "#2a3f5f"
          },
          "geo": {
           "bgcolor": "white",
           "lakecolor": "white",
           "landcolor": "#E5ECF6",
           "showlakes": true,
           "showland": true,
           "subunitcolor": "white"
          },
          "hoverlabel": {
           "align": "left"
          },
          "hovermode": "closest",
          "mapbox": {
           "style": "light"
          },
          "paper_bgcolor": "white",
          "plot_bgcolor": "#E5ECF6",
          "polar": {
           "angularaxis": {
            "gridcolor": "white",
            "linecolor": "white",
            "ticks": ""
           },
           "bgcolor": "#E5ECF6",
           "radialaxis": {
            "gridcolor": "white",
            "linecolor": "white",
            "ticks": ""
           }
          },
          "scene": {
           "xaxis": {
            "backgroundcolor": "#E5ECF6",
            "gridcolor": "white",
            "gridwidth": 2,
            "linecolor": "white",
            "showbackground": true,
            "ticks": "",
            "zerolinecolor": "white"
           },
           "yaxis": {
            "backgroundcolor": "#E5ECF6",
            "gridcolor": "white",
            "gridwidth": 2,
            "linecolor": "white",
            "showbackground": true,
            "ticks": "",
            "zerolinecolor": "white"
           },
           "zaxis": {
            "backgroundcolor": "#E5ECF6",
            "gridcolor": "white",
            "gridwidth": 2,
            "linecolor": "white",
            "showbackground": true,
            "ticks": "",
            "zerolinecolor": "white"
           }
          },
          "shapedefaults": {
           "line": {
            "color": "#2a3f5f"
           }
          },
          "ternary": {
           "aaxis": {
            "gridcolor": "white",
            "linecolor": "white",
            "ticks": ""
           },
           "baxis": {
            "gridcolor": "white",
            "linecolor": "white",
            "ticks": ""
           },
           "bgcolor": "#E5ECF6",
           "caxis": {
            "gridcolor": "white",
            "linecolor": "white",
            "ticks": ""
           }
          },
          "title": {
           "x": 0.05
          },
          "xaxis": {
           "automargin": true,
           "gridcolor": "white",
           "linecolor": "white",
           "ticks": "",
           "title": {
            "standoff": 15
           },
           "zerolinecolor": "white",
           "zerolinewidth": 2
          },
          "yaxis": {
           "automargin": true,
           "gridcolor": "white",
           "linecolor": "white",
           "ticks": "",
           "title": {
            "standoff": 15
           },
           "zerolinecolor": "white",
           "zerolinewidth": 2
          }
         }
        },
        "title": {
         "text": "Analysis "
        },
        "yaxis": {
         "showticklabels": false
        }
       }
      },
      "text/html": [
       "<div>\n",
       "        \n",
       "        \n",
       "            <div id=\"41667ac5-9af9-4b4e-95bc-09dc615621d2\" class=\"plotly-graph-div\" style=\"height:600px; width:100%;\"></div>\n",
       "            <script type=\"text/javascript\">\n",
       "                require([\"plotly\"], function(Plotly) {\n",
       "                    window.PLOTLYENV=window.PLOTLYENV || {};\n",
       "                    \n",
       "                if (document.getElementById(\"41667ac5-9af9-4b4e-95bc-09dc615621d2\")) {\n",
       "                    Plotly.newPlot(\n",
       "                        '41667ac5-9af9-4b4e-95bc-09dc615621d2',\n",
       "                        [{\"connector\": {\"line\": {\"color\": \"rgb(63, 63, 63)\"}}, \"measure\": [\"relative\", \"relative\", \"relative\", \"relative\", \"relative\", \"relative\", \"relative\", \"relative\", \"relative\", \"relative\"], \"name\": \"20\", \"orientation\": \"h\", \"text\": [\"0.741679847240448 (+0.00%)\", \"0.8334867560315473 (+12.38%)\", \"0.9319242142088406 (+11.81%)\", \"1.0094915056325664 (+8.32%)\", \"1.023728480029226 (+1.41%)\", \"1.0318451016997419 (+0.79%)\", \"1.0237499238215393 (-0.78%)\", \"1.0267216100232375 (+0.29%)\", \"1.028047206403156 (+0.13%)\", \"0.9809720516204834 (-4.58%)\"], \"textposition\": \"outside\", \"type\": \"waterfall\", \"x\": [0.741679847240448, 0.09180690879109932, 0.09843745817729332, 0.07756729142372576, 0.014236974396659496, 0.008116621670515967, -0.008095177878202575, 0.002971686201698187, 0.001325596379918581, -0.04707515478267266], \"y\": [\"model_mean\", \"age (23)\", \"relationship ( Own-child)\", \"marital-status ( Never-married)\", \"occupation (nan)\", \"race ( Black)\", \"education ( Bachelors), education-num (13.0)\", \"workclass ( Private)\", \"fnlwgt (529223)\", \"others and interconnections\"]}],\n",
       "                        {\"height\": 600, \"showlegend\": false, \"template\": {\"data\": {\"bar\": [{\"error_x\": {\"color\": \"#2a3f5f\"}, \"error_y\": {\"color\": \"#2a3f5f\"}, \"marker\": {\"line\": {\"color\": \"#E5ECF6\", \"width\": 0.5}}, \"type\": \"bar\"}], \"barpolar\": [{\"marker\": {\"line\": {\"color\": \"#E5ECF6\", \"width\": 0.5}}, \"type\": \"barpolar\"}], \"carpet\": [{\"aaxis\": {\"endlinecolor\": \"#2a3f5f\", \"gridcolor\": \"white\", \"linecolor\": \"white\", \"minorgridcolor\": \"white\", \"startlinecolor\": \"#2a3f5f\"}, \"baxis\": {\"endlinecolor\": \"#2a3f5f\", \"gridcolor\": \"white\", \"linecolor\": \"white\", \"minorgridcolor\": \"white\", \"startlinecolor\": \"#2a3f5f\"}, \"type\": \"carpet\"}], \"choropleth\": [{\"colorbar\": {\"outlinewidth\": 0, \"ticks\": \"\"}, \"type\": \"choropleth\"}], \"contour\": [{\"colorbar\": {\"outlinewidth\": 0, \"ticks\": \"\"}, \"colorscale\": [[0.0, \"#0d0887\"], [0.1111111111111111, \"#46039f\"], [0.2222222222222222, \"#7201a8\"], [0.3333333333333333, \"#9c179e\"], [0.4444444444444444, \"#bd3786\"], [0.5555555555555556, \"#d8576b\"], [0.6666666666666666, \"#ed7953\"], [0.7777777777777778, \"#fb9f3a\"], [0.8888888888888888, \"#fdca26\"], [1.0, \"#f0f921\"]], \"type\": \"contour\"}], \"contourcarpet\": [{\"colorbar\": {\"outlinewidth\": 0, \"ticks\": \"\"}, \"type\": \"contourcarpet\"}], \"heatmap\": [{\"colorbar\": {\"outlinewidth\": 0, \"ticks\": \"\"}, \"colorscale\": [[0.0, \"#0d0887\"], [0.1111111111111111, \"#46039f\"], [0.2222222222222222, \"#7201a8\"], [0.3333333333333333, \"#9c179e\"], [0.4444444444444444, \"#bd3786\"], [0.5555555555555556, \"#d8576b\"], [0.6666666666666666, \"#ed7953\"], [0.7777777777777778, \"#fb9f3a\"], [0.8888888888888888, \"#fdca26\"], [1.0, \"#f0f921\"]], \"type\": \"heatmap\"}], \"heatmapgl\": [{\"colorbar\": {\"outlinewidth\": 0, \"ticks\": \"\"}, \"colorscale\": [[0.0, \"#0d0887\"], [0.1111111111111111, \"#46039f\"], [0.2222222222222222, \"#7201a8\"], [0.3333333333333333, \"#9c179e\"], [0.4444444444444444, \"#bd3786\"], [0.5555555555555556, \"#d8576b\"], [0.6666666666666666, \"#ed7953\"], [0.7777777777777778, \"#fb9f3a\"], [0.8888888888888888, \"#fdca26\"], [1.0, \"#f0f921\"]], \"type\": \"heatmapgl\"}], \"histogram\": [{\"marker\": {\"colorbar\": {\"outlinewidth\": 0, \"ticks\": \"\"}}, \"type\": \"histogram\"}], \"histogram2d\": [{\"colorbar\": {\"outlinewidth\": 0, \"ticks\": \"\"}, \"colorscale\": [[0.0, \"#0d0887\"], [0.1111111111111111, \"#46039f\"], [0.2222222222222222, \"#7201a8\"], [0.3333333333333333, \"#9c179e\"], [0.4444444444444444, \"#bd3786\"], [0.5555555555555556, \"#d8576b\"], [0.6666666666666666, \"#ed7953\"], [0.7777777777777778, \"#fb9f3a\"], [0.8888888888888888, \"#fdca26\"], [1.0, \"#f0f921\"]], \"type\": \"histogram2d\"}], \"histogram2dcontour\": [{\"colorbar\": {\"outlinewidth\": 0, \"ticks\": \"\"}, \"colorscale\": [[0.0, \"#0d0887\"], [0.1111111111111111, \"#46039f\"], [0.2222222222222222, \"#7201a8\"], [0.3333333333333333, \"#9c179e\"], [0.4444444444444444, \"#bd3786\"], [0.5555555555555556, \"#d8576b\"], [0.6666666666666666, \"#ed7953\"], [0.7777777777777778, \"#fb9f3a\"], [0.8888888888888888, \"#fdca26\"], [1.0, \"#f0f921\"]], \"type\": \"histogram2dcontour\"}], \"mesh3d\": [{\"colorbar\": {\"outlinewidth\": 0, \"ticks\": \"\"}, \"type\": \"mesh3d\"}], \"parcoords\": [{\"line\": {\"colorbar\": {\"outlinewidth\": 0, \"ticks\": \"\"}}, \"type\": \"parcoords\"}], \"pie\": [{\"automargin\": true, \"type\": \"pie\"}], \"scatter\": [{\"marker\": {\"colorbar\": {\"outlinewidth\": 0, \"ticks\": \"\"}}, \"type\": \"scatter\"}], \"scatter3d\": [{\"line\": {\"colorbar\": {\"outlinewidth\": 0, \"ticks\": \"\"}}, \"marker\": {\"colorbar\": {\"outlinewidth\": 0, \"ticks\": \"\"}}, \"type\": \"scatter3d\"}], \"scattercarpet\": [{\"marker\": {\"colorbar\": {\"outlinewidth\": 0, \"ticks\": \"\"}}, \"type\": \"scattercarpet\"}], \"scattergeo\": [{\"marker\": {\"colorbar\": {\"outlinewidth\": 0, \"ticks\": \"\"}}, \"type\": \"scattergeo\"}], \"scattergl\": [{\"marker\": {\"colorbar\": {\"outlinewidth\": 0, \"ticks\": \"\"}}, \"type\": \"scattergl\"}], \"scattermapbox\": [{\"marker\": {\"colorbar\": {\"outlinewidth\": 0, \"ticks\": \"\"}}, \"type\": \"scattermapbox\"}], \"scatterpolar\": [{\"marker\": {\"colorbar\": {\"outlinewidth\": 0, \"ticks\": \"\"}}, \"type\": \"scatterpolar\"}], \"scatterpolargl\": [{\"marker\": {\"colorbar\": {\"outlinewidth\": 0, \"ticks\": \"\"}}, \"type\": \"scatterpolargl\"}], \"scatterternary\": [{\"marker\": {\"colorbar\": {\"outlinewidth\": 0, \"ticks\": \"\"}}, \"type\": \"scatterternary\"}], \"surface\": [{\"colorbar\": {\"outlinewidth\": 0, \"ticks\": \"\"}, \"colorscale\": [[0.0, \"#0d0887\"], [0.1111111111111111, \"#46039f\"], [0.2222222222222222, \"#7201a8\"], [0.3333333333333333, \"#9c179e\"], [0.4444444444444444, \"#bd3786\"], [0.5555555555555556, \"#d8576b\"], [0.6666666666666666, \"#ed7953\"], [0.7777777777777778, \"#fb9f3a\"], [0.8888888888888888, \"#fdca26\"], [1.0, \"#f0f921\"]], \"type\": \"surface\"}], \"table\": [{\"cells\": {\"fill\": {\"color\": \"#EBF0F8\"}, \"line\": {\"color\": \"white\"}}, \"header\": {\"fill\": {\"color\": \"#C8D4E3\"}, \"line\": {\"color\": \"white\"}}, \"type\": \"table\"}]}, \"layout\": {\"annotationdefaults\": {\"arrowcolor\": \"#2a3f5f\", \"arrowhead\": 0, \"arrowwidth\": 1}, \"coloraxis\": {\"colorbar\": {\"outlinewidth\": 0, \"ticks\": \"\"}}, \"colorscale\": {\"diverging\": [[0, \"#8e0152\"], [0.1, \"#c51b7d\"], [0.2, \"#de77ae\"], [0.3, \"#f1b6da\"], [0.4, \"#fde0ef\"], [0.5, \"#f7f7f7\"], [0.6, \"#e6f5d0\"], [0.7, \"#b8e186\"], [0.8, \"#7fbc41\"], [0.9, \"#4d9221\"], [1, \"#276419\"]], \"sequential\": [[0.0, \"#0d0887\"], [0.1111111111111111, \"#46039f\"], [0.2222222222222222, \"#7201a8\"], [0.3333333333333333, \"#9c179e\"], [0.4444444444444444, \"#bd3786\"], [0.5555555555555556, \"#d8576b\"], [0.6666666666666666, \"#ed7953\"], [0.7777777777777778, \"#fb9f3a\"], [0.8888888888888888, \"#fdca26\"], [1.0, \"#f0f921\"]], \"sequentialminus\": [[0.0, \"#0d0887\"], [0.1111111111111111, \"#46039f\"], [0.2222222222222222, \"#7201a8\"], [0.3333333333333333, \"#9c179e\"], [0.4444444444444444, \"#bd3786\"], [0.5555555555555556, \"#d8576b\"], [0.6666666666666666, \"#ed7953\"], [0.7777777777777778, \"#fb9f3a\"], [0.8888888888888888, \"#fdca26\"], [1.0, \"#f0f921\"]]}, \"colorway\": [\"#636efa\", \"#EF553B\", \"#00cc96\", \"#ab63fa\", \"#FFA15A\", \"#19d3f3\", \"#FF6692\", \"#B6E880\", \"#FF97FF\", \"#FECB52\"], \"font\": {\"color\": \"#2a3f5f\"}, \"geo\": {\"bgcolor\": \"white\", \"lakecolor\": \"white\", \"landcolor\": \"#E5ECF6\", \"showlakes\": true, \"showland\": true, \"subunitcolor\": \"white\"}, \"hoverlabel\": {\"align\": \"left\"}, \"hovermode\": \"closest\", \"mapbox\": {\"style\": \"light\"}, \"paper_bgcolor\": \"white\", \"plot_bgcolor\": \"#E5ECF6\", \"polar\": {\"angularaxis\": {\"gridcolor\": \"white\", \"linecolor\": \"white\", \"ticks\": \"\"}, \"bgcolor\": \"#E5ECF6\", \"radialaxis\": {\"gridcolor\": \"white\", \"linecolor\": \"white\", \"ticks\": \"\"}}, \"scene\": {\"xaxis\": {\"backgroundcolor\": \"#E5ECF6\", \"gridcolor\": \"white\", \"gridwidth\": 2, \"linecolor\": \"white\", \"showbackground\": true, \"ticks\": \"\", \"zerolinecolor\": \"white\"}, \"yaxis\": {\"backgroundcolor\": \"#E5ECF6\", \"gridcolor\": \"white\", \"gridwidth\": 2, \"linecolor\": \"white\", \"showbackground\": true, \"ticks\": \"\", \"zerolinecolor\": \"white\"}, \"zaxis\": {\"backgroundcolor\": \"#E5ECF6\", \"gridcolor\": \"white\", \"gridwidth\": 2, \"linecolor\": \"white\", \"showbackground\": true, \"ticks\": \"\", \"zerolinecolor\": \"white\"}}, \"shapedefaults\": {\"line\": {\"color\": \"#2a3f5f\"}}, \"ternary\": {\"aaxis\": {\"gridcolor\": \"white\", \"linecolor\": \"white\", \"ticks\": \"\"}, \"baxis\": {\"gridcolor\": \"white\", \"linecolor\": \"white\", \"ticks\": \"\"}, \"bgcolor\": \"#E5ECF6\", \"caxis\": {\"gridcolor\": \"white\", \"linecolor\": \"white\", \"ticks\": \"\"}}, \"title\": {\"x\": 0.05}, \"xaxis\": {\"automargin\": true, \"gridcolor\": \"white\", \"linecolor\": \"white\", \"ticks\": \"\", \"title\": {\"standoff\": 15}, \"zerolinecolor\": \"white\", \"zerolinewidth\": 2}, \"yaxis\": {\"automargin\": true, \"gridcolor\": \"white\", \"linecolor\": \"white\", \"ticks\": \"\", \"title\": {\"standoff\": 15}, \"zerolinecolor\": \"white\", \"zerolinewidth\": 2}}}, \"title\": {\"text\": \"Analysis \"}, \"yaxis\": {\"showticklabels\": false}},\n",
       "                        {\"responsive\": true}\n",
       "                    ).then(function(){\n",
       "                            \n",
       "var gd = document.getElementById('41667ac5-9af9-4b4e-95bc-09dc615621d2');\n",
       "var x = new MutationObserver(function (mutations, observer) {{\n",
       "        var display = window.getComputedStyle(gd).display;\n",
       "        if (!display || display === 'none') {{\n",
       "            console.log([gd, 'removed!']);\n",
       "            Plotly.purge(gd);\n",
       "            observer.disconnect();\n",
       "        }}\n",
       "}});\n",
       "\n",
       "// Listen for the removal of the full notebook cells\n",
       "var notebookContainer = gd.closest('#notebook-container');\n",
       "if (notebookContainer) {{\n",
       "    x.observe(notebookContainer, {childList: true});\n",
       "}}\n",
       "\n",
       "// Listen for the clearing of the current output cell\n",
       "var outputEl = gd.closest('.output');\n",
       "if (outputEl) {{\n",
       "    x.observe(outputEl, {childList: true});\n",
       "}}\n",
       "\n",
       "                        })\n",
       "                };\n",
       "                });\n",
       "            </script>\n",
       "        </div>"
      ]
     },
     "metadata": {},
     "output_type": "display_data"
    }
   ],
   "source": [
    "wf.plot_forces()"
   ]
  },
  {
   "cell_type": "markdown",
   "metadata": {},
   "source": [
    "Let's see what ages how affect this particular row"
   ]
  },
  {
   "cell_type": "code",
   "execution_count": null,
   "metadata": {},
   "outputs": [
    {
     "data": {
      "text/html": [],
      "text/plain": [
       "<IPython.core.display.HTML object>"
      ]
     },
     "metadata": {},
     "output_type": "display_data"
    },
    {
     "data": {
      "image/png": "[encoded data removed]",
      "text/plain": [
       "<Figure size 720x720 with 1 Axes>"
      ]
     },
     "metadata": {
      "needs_background": "light"
     },
     "output_type": "display_data"
    }
   ],
   "source": [
    "wf.plot_variants(fields=['age'])"
   ]
  },
  {
   "cell_type": "code",
   "execution_count": null,
   "metadata": {},
   "outputs": [
    {
     "ename": "NameError",
     "evalue": "name 'wf' is not defined",
     "output_type": "error",
     "traceback": [
      "\u001b[0;31m---------------------------------------------------------------------------\u001b[0m",
      "\u001b[0;31mNameError\u001b[0m                                 Traceback (most recent call last)",
      "\u001b[0;32m<ipython-input-1-183a7bd28d95>\u001b[0m in \u001b[0;36m<module>\u001b[0;34m\u001b[0m\n\u001b[0;32m----> 1\u001b[0;31m \u001b[0mwf\u001b[0m\u001b[0;34m.\u001b[0m\u001b[0mget_variants_pd\u001b[0m\u001b[0;34m(\u001b[0m\u001b[0mfields\u001b[0m\u001b[0;34m=\u001b[0m\u001b[0;34m[\u001b[0m\u001b[0;34m'age'\u001b[0m\u001b[0;34m]\u001b[0m\u001b[0;34m)\u001b[0m\u001b[0;34m\u001b[0m\u001b[0;34m\u001b[0m\u001b[0m\n\u001b[0m",
      "\u001b[0;31mNameError\u001b[0m: name 'wf' is not defined"
     ]
    }
   ],
   "source": [
    "wf.get_variants_pd(fields=['age'])"
   ]
  },
  {
   "cell_type": "markdown",
   "metadata": {},
   "source": [
    "Methods exposed: `plot_forces` -- plot waterfall graph calculated in initialization, `get_forces` -- outputs all the forces for a given row as a ordered dict, `plot_variants` -- plot graph of different variants of values of a particular column"
   ]
  }
 ],
 "metadata": {
  "kernelspec": {
   "display_name": "Python 3",
   "language": "python",
   "name": "python3"
  }
 },
 "nbformat": 4,
 "nbformat_minor": 2
}
