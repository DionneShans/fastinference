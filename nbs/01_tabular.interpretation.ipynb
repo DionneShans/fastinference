{
 "cells": [
  {
   "cell_type": "code",
   "execution_count": null,
   "metadata": {},
   "outputs": [],
   "source": [
    "# default_exp tabular.interpretation"
   ]
  },
  {
   "cell_type": "markdown",
   "metadata": {},
   "source": [
    "# tabular.interpretation\n",
    "\n",
    "> Useful interpretation functions for tabular, such as Feature Importance"
   ]
  },
  {
   "cell_type": "code",
   "execution_count": null,
   "metadata": {},
   "outputs": [],
   "source": [
    "#hide\n",
    "from nbdev.showdoc import *"
   ]
  },
  {
   "cell_type": "code",
   "execution_count": null,
   "metadata": {},
   "outputs": [],
   "source": [
    "#export\n",
    "from fastai2.tabular.all import *"
   ]
  },
  {
   "cell_type": "code",
   "execution_count": null,
   "metadata": {},
   "outputs": [],
   "source": [
    "#export\n",
    "def base_error(err, val): return (err/val)/err"
   ]
  },
  {
   "cell_type": "code",
   "execution_count": null,
   "metadata": {},
   "outputs": [],
   "source": [
    "#export\n",
    "class PermutationImportance():\n",
    "    \"Calculate and plot the permutation importance\"\n",
    "    def __init__(self, learn:Learner, df=None, metric=accuracy, bs=None, perm_func=base_error, reverse=True):\n",
    "        \"Initialize with a test dataframe, a learner, and a metric\"\n",
    "        self.learn = learn\n",
    "        self.df = df\n",
    "        bs = bs if bs is not None else learn.dls.bs\n",
    "        if self.df is not None:\n",
    "            self.dl = learn.dls.test_dl(self.df, bs=bs)\n",
    "        else:\n",
    "            self.dl = learn.dls[1]\n",
    "        self.x_names = learn.dls.x_names.filter(lambda x: '_na' not in x)\n",
    "        self.na = learn.dls.x_names.filter(lambda x: '_na' in x)\n",
    "        self.y = dls.y_names\n",
    "        orig_metric = self.learn.metrics[1:]\n",
    "        self.learn.metrics = [metric]\n",
    "        self.results = self.calc_feat_importance(perm_func, reverse)\n",
    "        self.plot_importance(self.ord_dic_to_df(self.results))\n",
    "        self.learn.metrics = orig_metric\n",
    "\n",
    "    def measure_col(self, name:str):\n",
    "        \"Measures change after column shuffle\"\n",
    "        col = [name]\n",
    "        if f'{name}_na' in self.na: col.append(name)\n",
    "        orig = self.dl.items[col].values\n",
    "        perm = np.random.permutation(len(orig))\n",
    "        self.dl.items[col] = self.dl.items[col].values[perm]\n",
    "        with self.learn.no_bar(), self.learn.no_logging():\n",
    "            metric = learn.validate(dl=self.dl)[1]\n",
    "        self.dl.items[col] = orig\n",
    "        return metric\n",
    "\n",
    "    def calc_feat_importance(self, perm_func=base_error, reverse=True):\n",
    "        \"Calculates permutation importance by shuffling a column on a percentage scale\"\n",
    "        print('Getting base error')\n",
    "        with self.learn.no_bar(), self.learn.no_logging():\n",
    "            base_error = self.learn.validate(dl=self.dl)[1]\n",
    "        self.importance = {}\n",
    "        pbar = progress_bar(self.x_names)\n",
    "        print('Calculating Permutation Importance')\n",
    "        for col in pbar:\n",
    "            self.importance[col] = self.measure_col(col)\n",
    "        for key, value in self.importance.items():\n",
    "            self.importance[key] = perm_func(base_error, value)\n",
    "        return OrderedDict(sorted(self.importance.items(), key=lambda kv: kv[1], reverse=True))\n",
    "\n",
    "    def ord_dic_to_df(self, dict:OrderedDict):\n",
    "        return pd.DataFrame([[k, v] for k, v in dict.items()], columns=['feature', 'importance'])\n",
    "\n",
    "    def plot_importance(self, df:pd.DataFrame, limit=20, asc=False, **kwargs):\n",
    "        \"Plot importance with an optional limit to how many variables shown\"\n",
    "        df_copy = df.copy()\n",
    "        df_copy['feature'] = df_copy['feature'].str.slice(0,25)\n",
    "        df_copy = df_copy.sort_values(by='importance', ascending=asc)[:limit].sort_values(by='importance', ascending=not(asc))\n",
    "        ax = df_copy.plot.barh(x='feature', y='importance', sort_columns=True, **kwargs)\n",
    "        for p in ax.patches:\n",
    "            ax.annotate(f'{p.get_width():.4f}', ((p.get_width() * 1.005), p.get_y()  * 1.005))"
   ]
  },
  {
   "cell_type": "code",
   "execution_count": null,
   "metadata": {},
   "outputs": [
    {
     "data": {
      "text/markdown": [
       "<h2 id=\"PermutationImportance\" class=\"doc_header\"><code>class</code> <code>PermutationImportance</code><a href=\"\" class=\"source_link\" style=\"float:right\">[source]</a></h2>\n",
       "\n",
       "> <code>PermutationImportance</code>(**`learn`**:`Learner`, **`df`**=*`None`*, **`metric`**=*`'accuracy'`*, **`bs`**=*`None`*, **`perm_func`**=*`'base_error'`*, **`reverse`**=*`True`*)\n",
       "\n",
       "Calculate and plot the permutation importance"
      ],
      "text/plain": [
       "<IPython.core.display.Markdown object>"
      ]
     },
     "metadata": {},
     "output_type": "display_data"
    }
   ],
   "source": [
    "show_doc(PermutationImportance)"
   ]
  },
  {
   "cell_type": "markdown",
   "metadata": {},
   "source": [
    "We can pass in sections of a `DataFrame`, but not a `DataLoader`. `perm_func` dictates how to calculate our importance, and `reverse` will determine how to sort the output"
   ]
  },
  {
   "cell_type": "markdown",
   "metadata": {},
   "source": [
    "# Example Usage\n",
    "\n",
    "We'll run an example on the `ADULT_SAMPLE` dataset"
   ]
  },
  {
   "cell_type": "code",
   "execution_count": null,
   "metadata": {},
   "outputs": [],
   "source": [
    "from fastai2.tabular.all import *"
   ]
  },
  {
   "cell_type": "code",
   "execution_count": null,
   "metadata": {},
   "outputs": [],
   "source": [
    "path = untar_data(URLs.ADULT_SAMPLE)"
   ]
  },
  {
   "cell_type": "code",
   "execution_count": null,
   "metadata": {},
   "outputs": [],
   "source": [
    "df = pd.read_csv(path/'adult.csv')\n",
    "splits = RandomSplitter()(range_of(df))\n",
    "cat_names = ['workclass', 'education', 'marital-status', 'occupation', 'relationship', 'race']\n",
    "cont_names = ['age', 'fnlwgt', 'education-num']\n",
    "procs = [Categorify, FillMissing, Normalize]\n",
    "y_names = 'salary'"
   ]
  },
  {
   "cell_type": "code",
   "execution_count": null,
   "metadata": {},
   "outputs": [],
   "source": [
    "to = TabularPandas(df, procs=procs, cat_names=cat_names, cont_names=cont_names,\n",
    "                   y_names=y_names, splits=splits)\n",
    "dls = to.dataloaders()"
   ]
  },
  {
   "cell_type": "code",
   "execution_count": null,
   "metadata": {},
   "outputs": [
    {
     "data": {
      "text/html": [
       "<table border=\"1\" class=\"dataframe\">\n",
       "  <thead>\n",
       "    <tr style=\"text-align: left;\">\n",
       "      <th>epoch</th>\n",
       "      <th>train_loss</th>\n",
       "      <th>valid_loss</th>\n",
       "      <th>accuracy</th>\n",
       "      <th>time</th>\n",
       "    </tr>\n",
       "  </thead>\n",
       "  <tbody>\n",
       "    <tr>\n",
       "      <td>0</td>\n",
       "      <td>0.361757</td>\n",
       "      <td>0.358647</td>\n",
       "      <td>0.834152</td>\n",
       "      <td>00:03</td>\n",
       "    </tr>\n",
       "  </tbody>\n",
       "</table>"
      ],
      "text/plain": [
       "<IPython.core.display.HTML object>"
      ]
     },
     "metadata": {},
     "output_type": "display_data"
    }
   ],
   "source": [
    "learn = tabular_learner(dls, layers=[200,100], metrics=accuracy)\n",
    "learn.fit(1)"
   ]
  },
  {
   "cell_type": "code",
   "execution_count": null,
   "metadata": {},
   "outputs": [
    {
     "name": "stdout",
     "output_type": "stream",
     "text": [
      "Getting base error\n",
      "Calculating Permutation Importance\n"
     ]
    },
    {
     "data": {
      "text/html": [
       "\n",
       "    <div>\n",
       "        <style>\n",
       "            /* Turns off some styling */\n",
       "            progress {\n",
       "                /* gets rid of default border in Firefox and Opera. */\n",
       "                border: none;\n",
       "                /* Needs to be in here for Safari polyfill so background images work as expected. */\n",
       "                background-size: auto;\n",
       "            }\n",
       "            .progress-bar-interrupted, .progress-bar-interrupted::-webkit-progress-bar {\n",
       "                background: #F44336;\n",
       "            }\n",
       "        </style>\n",
       "      <progress value='9' class='' max='9', style='width:300px; height:20px; vertical-align: middle;'></progress>\n",
       "      100.00% [9/9 00:00<00:00]\n",
       "    </div>\n",
       "    "
      ],
      "text/plain": [
       "<IPython.core.display.HTML object>"
      ]
     },
     "metadata": {},
     "output_type": "display_data"
    },
    {
     "data": {
      "image/png": "[encoded data removed]",
      "text/plain": [
       "<Figure size 432x288 with 1 Axes>"
      ]
     },
     "metadata": {
      "needs_background": "light"
     },
     "output_type": "display_data"
    }
   ],
   "source": [
    "perm = PermutationImportance(learn, df.iloc[:1000], bs=64)"
   ]
  }
 ],
 "metadata": {
  "kernelspec": {
   "display_name": "Python 3",
   "language": "python",
   "name": "python3"
  },
  "language_info": {
   "codemirror_mode": {
    "name": "ipython",
    "version": 3
   },
   "file_extension": ".py",
   "mimetype": "text/x-python",
   "name": "python",
   "nbconvert_exporter": "python",
   "pygments_lexer": "ipython3",
   "version": "3.7.7"
  },
  "toc": {
   "base_numbering": 1,
   "nav_menu": {},
   "number_sections": false,
   "sideBar": true,
   "skip_h1_title": true,
   "title_cell": "Table of Contents",
   "title_sidebar": "Contents",
   "toc_cell": false,
   "toc_position": {},
   "toc_section_display": true,
   "toc_window_display": true
  }
 },
 "nbformat": 4,
 "nbformat_minor": 4
}
