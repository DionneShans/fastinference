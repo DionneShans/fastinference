{
 "cells": [
  {
   "cell_type": "code",
   "execution_count": null,
   "metadata": {},
   "outputs": [],
   "source": [
    "# default_exp tabular.interpretation"
   ]
  },
  {
   "cell_type": "markdown",
   "metadata": {},
   "source": [
    "# tabular.interpretation\n",
    "\n",
    "> Useful interpretation functions for tabular, such as Feature Importance"
   ]
  },
  {
   "cell_type": "code",
   "execution_count": null,
   "metadata": {},
   "outputs": [],
   "source": [
    "#hide\n",
    "from nbdev.showdoc import *"
   ]
  },
  {
   "cell_type": "code",
   "execution_count": null,
   "metadata": {},
   "outputs": [],
   "source": [
    "#export\n",
    "from fastai2.tabular.all import *\n",
    "from scipy.cluster import hierarchy as hc\n",
    "from sklearn import manifold"
   ]
  },
  {
   "cell_type": "code",
   "execution_count": null,
   "metadata": {},
   "outputs": [],
   "source": [
    "#export\n",
    "def base_error(err, val): return (err/val)/err"
   ]
  },
  {
   "cell_type": "code",
   "execution_count": null,
   "metadata": {},
   "outputs": [],
   "source": [
    "#export\n",
    "@patch\n",
    "def feature_importance(x:TabularLearner, df=None, dl=None, perm_func=base_error, metric=accuracy, bs=None, reverse=True, plot=True):\n",
    "    \"Calculate and plot the Feature Importance based on `df`\"\n",
    "    x.df = df\n",
    "    bs = bs if bs is not None else x.dls.bs\n",
    "    if df is not None:\n",
    "        dl = x.dls.test_dl(df, bs=bs)\n",
    "    else:\n",
    "        dl = x.dls[1]\n",
    "    x_names = x.dls.x_names.filter(lambda x: '_na' not in x)\n",
    "    na = x.dls.x_names.filter(lambda x: '_na' in x)\n",
    "    y = x.dls.y_names\n",
    "    orig_metrics = x.metrics[1:]\n",
    "    x.metrics = [metric]\n",
    "    results = _calc_feat_importance(x, dl, x_names, na, perm_func, reverse)\n",
    "    if plot:\n",
    "        _plot_importance(_ord_dic_to_df(results))\n",
    "    x.metrics = orig_metrics\n",
    "    return results"
   ]
  },
  {
   "cell_type": "code",
   "execution_count": null,
   "metadata": {},
   "outputs": [],
   "source": [
    "#export\n",
    "def _measure_col(learn:TabularLearner, dl:TabDataLoader, name:str, na:list):\n",
    "    \"Measures change after column permutation\"\n",
    "    col = [name]\n",
    "    if f'{name}_na' in na: col.append(name)\n",
    "    orig = dl.items[col].values\n",
    "    perm = np.random.permutation(len(orig))\n",
    "    dl.items[col] = dl.items[col].values[perm]\n",
    "    with learn.no_bar(), learn.no_logging():\n",
    "        metric = learn.validate(dl=dl)[1]\n",
    "    dl.items[col] = orig\n",
    "    return metric"
   ]
  },
  {
   "cell_type": "code",
   "execution_count": null,
   "metadata": {},
   "outputs": [],
   "source": [
    "#export\n",
    "def _calc_feat_importance(learn:TabularLearner, dl:TabDataLoader, x_names:list, na:list, perm_func=base_error, reverse=True):\n",
    "    \"Calculates permutation importance by shuffling a column by `perm_func`\"\n",
    "    with learn.no_bar(), learn.no_logging():\n",
    "        base_error = learn.validate(dl=dl)[1]\n",
    "    importance = {}\n",
    "    pbar = progress_bar(x_names)\n",
    "    print(\"Calculating Permutation Importance\")\n",
    "    for col in pbar:\n",
    "        importance[col] = _measure_col(learn, dl, col, na)\n",
    "    for key, value in importance.items():\n",
    "        importance[key] = perm_func(base_error, value)\n",
    "    return OrderedDict(sorted(importance.items(), key=lambda kv: kv[1], reverse=True))"
   ]
  },
  {
   "cell_type": "code",
   "execution_count": null,
   "metadata": {},
   "outputs": [],
   "source": [
    "#export\n",
    "def _ord_dic_to_df(dict:OrderedDict): return pd.DataFrame([[k,v] for k,v in dict.items()], columns=['feature','importance'])"
   ]
  },
  {
   "cell_type": "code",
   "execution_count": null,
   "metadata": {},
   "outputs": [],
   "source": [
    "#export\n",
    "def _plot_importance(df:pd.DataFrame, limit=20, asc=False, **kwargs):\n",
    "    \"Plot importance with an optional limit to how many variables shown\"\n",
    "    df_copy = df.copy()\n",
    "    df_copy['feature'] = df_copy['feature'].str.slice(0,25)\n",
    "    df_copy = df_copy.sort_values(by='importance', ascending=asc)[:limit].sort_values(by='importance', ascending=not(asc))\n",
    "    ax = df_copy.plot.barh(x='feature', y='importance', sort_columns=True, **kwargs)\n",
    "    for p in ax.patches:\n",
    "        ax.annotate(f'{p.get_width():.4f}', ((p.get_width() * 1.005), p.get_y()  * 1.005))"
   ]
  },
  {
   "cell_type": "code",
   "execution_count": null,
   "metadata": {},
   "outputs": [
    {
     "data": {
      "text/markdown": [
       "<h4 id=\"TabularLearner.feature_importance\" class=\"doc_header\"><code>TabularLearner.feature_importance</code><a href=\"__main__.py#L2\" class=\"source_link\" style=\"float:right\">[source]</a></h4>\n",
       "\n",
       "> <code>TabularLearner.feature_importance</code>(**`x`**:`TabularLearner`, **`df`**=*`None`*, **`perm_func`**=*`'base_error'`*, **`metric`**=*`'accuracy'`*, **`bs`**=*`None`*, **`reverse`**=*`True`*, **`plot`**=*`True`*)\n",
       "\n",
       "Calculate and plot the Feature Importance based on `df`"
      ],
      "text/plain": [
       "<IPython.core.display.Markdown object>"
      ]
     },
     "metadata": {},
     "output_type": "display_data"
    }
   ],
   "source": [
    "show_doc(TabularLearner.feature_importance)"
   ]
  },
  {
   "cell_type": "markdown",
   "metadata": {},
   "source": [
    "We can pass in sections of a `DataFrame`, but not a `DataLoader`. `perm_func` dictates how to calculate our importance, and `reverse` will determine how to sort the output"
   ]
  },
  {
   "cell_type": "code",
   "execution_count": null,
   "metadata": {},
   "outputs": [],
   "source": [
    "#export\n",
    "def _get_top_corr(df, matrix, thresh:float=0.8):\n",
    "    corr = np.where(abs(matrix) < thresh,0,matrix)\n",
    "    idxs = []\n",
    "    for i in range(corr.shape[0]):\n",
    "        if (corr[i,:].sum() + corr[:, i].sum() > 2):\n",
    "            idxs.append(i)\n",
    "    cols = df.columns[idxs]\n",
    "    return pd.DataFrame(corr[np.ix_(idxs,idxs)], columns=cols, index=cols)"
   ]
  },
  {
   "cell_type": "code",
   "execution_count": null,
   "metadata": {},
   "outputs": [],
   "source": [
    "#export\n",
    "def _cramers_corrected_stat(cm):\n",
    "    \"Calculates Cramers V Statistic for categorical-categorical\"\n",
    "    try: chi2 = scipy.stats.chi2_contingency(cm)[0]\n",
    "    except: return 0.0\n",
    "    \n",
    "    if chi2 == 0: return 0.0\n",
    "    n = cm.sum().sum()\n",
    "    phi2 = chi2 / n\n",
    "    r,k = cm.shape\n",
    "    phi2corr = max(0, phi2 - ((k-1)*(r-1))/(n-1))\n",
    "    rcorr = r - ((r-1)**2)/(n-1)\n",
    "    kcorr = k - ((k-1)**2)/(n-1)\n",
    "    return np.sqrt(phi2corr/min((kcorr-1), (rcorr-1)))"
   ]
  },
  {
   "cell_type": "code",
   "execution_count": null,
   "metadata": {},
   "outputs": [],
   "source": [
    "#export\n",
    "def _get_cramer_v_matr(dl:TabDataLoader):\n",
    "    \"Calculate Cramers V statistic on every pair in `df`'s columns'\"\n",
    "    df = dl.xs\n",
    "    cols = list(df.columns)\n",
    "    corrM = np.zeros((len(cols), len(cols)))\n",
    "    for col1, col2 in progress_bar(list(itertools.combinations(cols, 2))):\n",
    "        idx1, idx2 = cols.index(col1), cols.index(col2)\n",
    "        corrM[idx1,idx2] = _cramers_corrected_stat(pd.crosstab(df[col1], df[col2]))\n",
    "        corrM[idx2, idx1] = corrM[idx1, idx2]\n",
    "    np.fill_diagonal(corrM, 1.0)\n",
    "    return corrM"
   ]
  },
  {
   "cell_type": "code",
   "execution_count": null,
   "metadata": {},
   "outputs": [],
   "source": [
    "#export\n",
    "def _get_top_corr_dict_corrs(top_corrs):\n",
    "    cols = top_corrs.columns\n",
    "    top_corrs_np = top_corrs.to_numpy()\n",
    "    corr_dict = {}\n",
    "    for i in range(top_corrs_np.shape[0]):\n",
    "        for j in range(i+1, top_corrs_np.shape[0]):\n",
    "            if top_corrs_np[i,j] > 0:\n",
    "                corr_dict[cols[i] + ' vs ' + cols[j]] = np.round(top_corrs_np[i,j],3)\n",
    "    return OrderedDict(sorted(corr_dict.items(), key=lambda kv: abs(kv[1]), reverse=True))"
   ]
  },
  {
   "cell_type": "code",
   "execution_count": null,
   "metadata": {},
   "outputs": [],
   "source": [
    "#export\n",
    "@patch\n",
    "def get_top_corr_dict(x:TabularLearner, df:pd.DataFrame, thresh:float=0.8):\n",
    "    \"Grabs top pairs of correlation with a given correlation matrix on `df` filtered by `thresh`\"\n",
    "    dl = x.dls.test_dl(df)\n",
    "    matrix = _get_cramer_v_matr(dl)\n",
    "    top_corrs = _get_top_corr(df, matrix, thresh=thresh)\n",
    "    return _get_top_corr_dict_corrs(top_corrs)"
   ]
  },
  {
   "cell_type": "code",
   "execution_count": null,
   "metadata": {},
   "outputs": [
    {
     "data": {
      "text/markdown": [
       "<h4 id=\"TabularLearner.get_top_corr_dict\" class=\"doc_header\"><code>TabularLearner.get_top_corr_dict</code><a href=\"__main__.py#L2\" class=\"source_link\" style=\"float:right\">[source]</a></h4>\n",
       "\n",
       "> <code>TabularLearner.get_top_corr_dict</code>(**`x`**:`TabularLearner`, **`df`**:`DataFrame`, **`thresh`**:`float`=*`0.8`*)\n",
       "\n",
       "Grabs top pairs of correlation with a given correlation matrix on `df` filtered by `thresh`"
      ],
      "text/plain": [
       "<IPython.core.display.Markdown object>"
      ]
     },
     "metadata": {},
     "output_type": "display_data"
    }
   ],
   "source": [
    "show_doc(TabularLearner.get_top_corr_dict)"
   ]
  },
  {
   "cell_type": "markdown",
   "metadata": {},
   "source": [
    "This along with `plot_dendrogram` and any helper functions along the way are based upon [this](https://github.com/Pak911/fastai2-tabular-interpretation/blob/master/utils.py) by Pack911 on the fastai forums. "
   ]
  },
  {
   "cell_type": "code",
   "execution_count": null,
   "metadata": {},
   "outputs": [],
   "source": [
    "@patch\n",
    "def plot_dendrogram(x:TabularLearner, df:pd.DataFrame, figsize=None, leaf_font_size=16):\n",
    "    \"Plots dendrogram for a calculated correlation matrix\"\n",
    "    dl = x.dls.test_dl(df)\n",
    "    matrix = _get_cramer_v_matr(dl)\n",
    "    if figsize is None:\n",
    "        figsize = (15, 0.02*leaf_font_size*len(dl.x_names))\n",
    "    corr_condensed = hc.distance.squareform(1-matrix)\n",
    "    z = hc.linkage(corr_condensed, method='average')\n",
    "    fig = plt.figure(figsize=figsize)\n",
    "    dendrogram = hc.dendrogram(z, labels=dl.x_names, orientation='left', leaf_font_size = leaf_font_size)\n",
    "    plt.show()"
   ]
  },
  {
   "cell_type": "code",
   "execution_count": null,
   "metadata": {},
   "outputs": [
    {
     "data": {
      "text/markdown": [
       "<h4 id=\"TabularLearner.plot_dendrogram\" class=\"doc_header\"><code>TabularLearner.plot_dendrogram</code><a href=\"__main__.py#L1\" class=\"source_link\" style=\"float:right\">[source]</a></h4>\n",
       "\n",
       "> <code>TabularLearner.plot_dendrogram</code>(**`x`**:`TabularLearner`, **`df`**:`DataFrame`, **`figsize`**=*`None`*, **`leaf_font_size`**=*`16`*)\n",
       "\n",
       "Plots dendrogram for a calculated correlation matrix"
      ],
      "text/plain": [
       "<IPython.core.display.Markdown object>"
      ]
     },
     "metadata": {},
     "output_type": "display_data"
    }
   ],
   "source": [
    "show_doc(TabularLearner.plot_dendrogram)"
   ]
  },
  {
   "cell_type": "markdown",
   "metadata": {},
   "source": [
    "## Example Usage\n",
    "\n",
    "We'll run an example on the `ADULT_SAMPLE` dataset"
   ]
  },
  {
   "cell_type": "code",
   "execution_count": null,
   "metadata": {},
   "outputs": [],
   "source": [
    "from fastai2.tabular.all import *"
   ]
  },
  {
   "cell_type": "code",
   "execution_count": null,
   "metadata": {},
   "outputs": [],
   "source": [
    "path = untar_data(URLs.ADULT_SAMPLE)"
   ]
  },
  {
   "cell_type": "code",
   "execution_count": null,
   "metadata": {},
   "outputs": [],
   "source": [
    "df = pd.read_csv(path/'adult.csv')\n",
    "splits = RandomSplitter()(range_of(df))\n",
    "cat_names = ['workclass', 'education', 'marital-status', 'occupation', 'relationship', 'race']\n",
    "cont_names = ['age', 'fnlwgt', 'education-num']\n",
    "procs = [Categorify, FillMissing, Normalize]\n",
    "y_names = 'salary'"
   ]
  },
  {
   "cell_type": "code",
   "execution_count": null,
   "metadata": {},
   "outputs": [],
   "source": [
    "to = TabularPandas(df, procs=procs, cat_names=cat_names, cont_names=cont_names,\n",
    "                   y_names=y_names, splits=splits)\n",
    "dls = to.dataloaders()"
   ]
  },
  {
   "cell_type": "code",
   "execution_count": null,
   "metadata": {},
   "outputs": [
    {
     "data": {
      "text/html": [
       "<table border=\"1\" class=\"dataframe\">\n",
       "  <thead>\n",
       "    <tr style=\"text-align: left;\">\n",
       "      <th>epoch</th>\n",
       "      <th>train_loss</th>\n",
       "      <th>valid_loss</th>\n",
       "      <th>accuracy</th>\n",
       "      <th>time</th>\n",
       "    </tr>\n",
       "  </thead>\n",
       "  <tbody>\n",
       "    <tr>\n",
       "      <td>0</td>\n",
       "      <td>0.368716</td>\n",
       "      <td>0.349249</td>\n",
       "      <td>0.839988</td>\n",
       "      <td>00:03</td>\n",
       "    </tr>\n",
       "    <tr>\n",
       "      <td>1</td>\n",
       "      <td>0.353072</td>\n",
       "      <td>0.342933</td>\n",
       "      <td>0.845670</td>\n",
       "      <td>00:03</td>\n",
       "    </tr>\n",
       "    <tr>\n",
       "      <td>2</td>\n",
       "      <td>0.351007</td>\n",
       "      <td>0.343165</td>\n",
       "      <td>0.840909</td>\n",
       "      <td>00:03</td>\n",
       "    </tr>\n",
       "  </tbody>\n",
       "</table>"
      ],
      "text/plain": [
       "<IPython.core.display.HTML object>"
      ]
     },
     "metadata": {},
     "output_type": "display_data"
    }
   ],
   "source": [
    "learn = tabular_learner(dls, layers=[200,100], metrics=accuracy)\n",
    "learn.fit(3)"
   ]
  },
  {
   "cell_type": "markdown",
   "metadata": {},
   "source": [
    "After fitting, let's first calculate the relative feature importance on the first 1,000 rows:"
   ]
  },
  {
   "cell_type": "code",
   "execution_count": null,
   "metadata": {},
   "outputs": [],
   "source": [
    "dl = learn.dls.test_dl(df.iloc[:1000])"
   ]
  },
  {
   "cell_type": "code",
   "execution_count": null,
   "metadata": {},
   "outputs": [
    {
     "name": "stdout",
     "output_type": "stream",
     "text": [
      "Calculating Permutation Importance\n"
     ]
    },
    {
     "data": {
      "text/html": [
       "\n",
       "    <div>\n",
       "        <style>\n",
       "            /* Turns off some styling */\n",
       "            progress {\n",
       "                /* gets rid of default border in Firefox and Opera. */\n",
       "                border: none;\n",
       "                /* Needs to be in here for Safari polyfill so background images work as expected. */\n",
       "                background-size: auto;\n",
       "            }\n",
       "            .progress-bar-interrupted, .progress-bar-interrupted::-webkit-progress-bar {\n",
       "                background: #F44336;\n",
       "            }\n",
       "        </style>\n",
       "      <progress value='9' class='' max='9', style='width:300px; height:20px; vertical-align: middle;'></progress>\n",
       "      100.00% [9/9 00:00<00:00]\n",
       "    </div>\n",
       "    "
      ],
      "text/plain": [
       "<IPython.core.display.HTML object>"
      ]
     },
     "metadata": {},
     "output_type": "display_data"
    },
    {
     "data": {
      "image/png": "[encoded data removed]",
      "text/plain": [
       "<Figure size 432x288 with 1 Axes>"
      ]
     },
     "metadata": {
      "needs_background": "light"
     },
     "output_type": "display_data"
    }
   ],
   "source": [
    "fi = learn.feature_importance(df=df.iloc[:1000])"
   ]
  },
  {
   "cell_type": "markdown",
   "metadata": {},
   "source": [
    "Next we'll calculate the correlation matrix, and then we will plot it's dendrogram:"
   ]
  },
  {
   "cell_type": "code",
   "execution_count": null,
   "metadata": {},
   "outputs": [
    {
     "data": {
      "text/html": [
       "\n",
       "    <div>\n",
       "        <style>\n",
       "            /* Turns off some styling */\n",
       "            progress {\n",
       "                /* gets rid of default border in Firefox and Opera. */\n",
       "                border: none;\n",
       "                /* Needs to be in here for Safari polyfill so background images work as expected. */\n",
       "                background-size: auto;\n",
       "            }\n",
       "            .progress-bar-interrupted, .progress-bar-interrupted::-webkit-progress-bar {\n",
       "                background: #F44336;\n",
       "            }\n",
       "        </style>\n",
       "      <progress value='45' class='' max='45', style='width:300px; height:20px; vertical-align: middle;'></progress>\n",
       "      100.00% [45/45 00:02<00:00]\n",
       "    </div>\n",
       "    "
      ],
      "text/plain": [
       "<IPython.core.display.HTML object>"
      ]
     },
     "metadata": {},
     "output_type": "display_data"
    },
    {
     "data": {
      "text/plain": [
       "OrderedDict([('occupation vs sex', 0.795),\n",
       "             ('workclass vs sex', 0.691),\n",
       "             ('fnlwgt vs education-num', 0.485),\n",
       "             ('fnlwgt vs relationship', 0.301)])"
      ]
     },
     "execution_count": null,
     "metadata": {},
     "output_type": "execute_result"
    }
   ],
   "source": [
    "corr_dict = learn.get_top_corr_dict(df.iloc[:1000], thresh=0.3); corr_dict"
   ]
  },
  {
   "cell_type": "code",
   "execution_count": null,
   "metadata": {},
   "outputs": [
    {
     "data": {
      "text/html": [
       "\n",
       "    <div>\n",
       "        <style>\n",
       "            /* Turns off some styling */\n",
       "            progress {\n",
       "                /* gets rid of default border in Firefox and Opera. */\n",
       "                border: none;\n",
       "                /* Needs to be in here for Safari polyfill so background images work as expected. */\n",
       "                background-size: auto;\n",
       "            }\n",
       "            .progress-bar-interrupted, .progress-bar-interrupted::-webkit-progress-bar {\n",
       "                background: #F44336;\n",
       "            }\n",
       "        </style>\n",
       "      <progress value='45' class='' max='45', style='width:300px; height:20px; vertical-align: middle;'></progress>\n",
       "      100.00% [45/45 00:01<00:00]\n",
       "    </div>\n",
       "    "
      ],
      "text/plain": [
       "<IPython.core.display.HTML object>"
      ]
     },
     "metadata": {},
     "output_type": "display_data"
    },
    {
     "data": {
      "image/png": "[encoded data removed]",
      "text/plain": [
       "<Figure size 1080x230.4 with 1 Axes>"
      ]
     },
     "metadata": {
      "needs_background": "light"
     },
     "output_type": "display_data"
    }
   ],
   "source": [
    "learn.plot_dendrogram(df.iloc[:1000])"
   ]
  },
  {
   "cell_type": "markdown",
   "metadata": {},
   "source": [
    "This allows us to see what family of features are closesly related based on our `thresh`, and also to show (in combination with the feature importance) how our model uses each variable."
   ]
  },
  {
   "cell_type": "code",
   "execution_count": null,
   "metadata": {},
   "outputs": [],
   "source": []
  }
 ],
 "metadata": {
  "kernelspec": {
   "display_name": "Python 3",
   "language": "python",
   "name": "python3"
  }
 },
 "nbformat": 4,
 "nbformat_minor": 4
}
