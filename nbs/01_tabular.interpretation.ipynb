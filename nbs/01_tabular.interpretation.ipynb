{
 "cells": [
  {
   "cell_type": "code",
   "execution_count": null,
   "metadata": {},
   "outputs": [],
   "source": [
    "# default_exp tabular.interpretation"
   ]
  },
  {
   "cell_type": "markdown",
   "metadata": {},
   "source": [
    "# tabular.interpretation\n",
    "\n",
    "> Useful interpretation functions for tabular, such as Feature Importance"
   ]
  },
  {
   "cell_type": "code",
   "execution_count": null,
   "metadata": {},
   "outputs": [],
   "source": [
    "#hide\n",
    "from nbdev.showdoc import *"
   ]
  },
  {
   "cell_type": "code",
   "execution_count": null,
   "metadata": {},
   "outputs": [],
   "source": [
    "#export\n",
    "from fastai.tabular.all import *\n",
    "from scipy.cluster import hierarchy as hc\n",
    "from sklearn import manifold"
   ]
  },
  {
   "cell_type": "code",
   "execution_count": null,
   "metadata": {},
   "outputs": [],
   "source": [
    "#export\n",
    "def base_error(err, val):\n",
    "    try: return (err-val)/err\n",
    "    except ZeroDivisionError: return np.nan"
   ]
  },
  {
   "cell_type": "code",
   "execution_count": null,
   "metadata": {},
   "outputs": [],
   "source": [
    "#export\n",
    "@patch\n",
    "def feature_importance(x:TabularLearner, df=None, dl=None, perm_func=base_error, metric=accuracy, bs=None, reverse=True, plot=True):\n",
    "    \"Calculate and plot the Feature Importance based on `df`\"\n",
    "    x.df = df\n",
    "    bs = bs if bs is not None else x.dls.bs\n",
    "    if df is not None:\n",
    "        dl = x.dls.test_dl(df, bs=bs)\n",
    "    else:\n",
    "        dl = x.dls[1]\n",
    "    x_names = x.dls.x_names.filter(lambda x: '_na' not in x)\n",
    "    na = x.dls.x_names.filter(lambda x: '_na' in x)\n",
    "    y = x.dls.y_names\n",
    "    orig_metrics = x.metrics\n",
    "    x.metrics = [metric]    \n",
    "    try:\n",
    "        results = _calc_feat_importance(x, dl, x_names, na, perm_func, reverse)\n",
    "        if plot:\n",
    "            _plot_importance(_ord_dic_to_df(results))\n",
    "    finally: # Restore original metrics\n",
    "        x.metrics = orig_metrics\n",
    "        \n",
    "    return results"
   ]
  },
  {
   "cell_type": "code",
   "execution_count": null,
   "metadata": {},
   "outputs": [],
   "source": [
    "#export\n",
    "def _measure_col(learn:TabularLearner, dl:TabDataLoader, name:str, na:list):\n",
    "    \"Measures change after column permutation\"\n",
    "    col = [name]\n",
    "    if f'{name}_na' in na: col.append(name)\n",
    "    orig = dl.items[col].values\n",
    "    perm = np.random.permutation(len(orig))\n",
    "    dl.items[col] = dl.items[col].values[perm]\n",
    "    with learn.no_bar(), learn.no_logging():\n",
    "        metric = learn.validate(dl=dl)[1]\n",
    "    dl.items[col] = orig\n",
    "    return metric"
   ]
  },
  {
   "cell_type": "code",
   "execution_count": null,
   "metadata": {},
   "outputs": [],
   "source": [
    "#export\n",
    "def _calc_feat_importance(learn:TabularLearner, dl:TabDataLoader, x_names:list, na:list, perm_func=base_error, reverse=True):\n",
    "    \"Calculates permutation importance by shuffling a column by `perm_func`\"\n",
    "    with learn.no_bar(), learn.no_logging():\n",
    "        base_error = learn.validate(dl=dl)[1]\n",
    "    importance = {}\n",
    "    pbar = progress_bar(x_names)\n",
    "    print(\"Calculating Permutation Importance\")\n",
    "    for col in pbar:\n",
    "        importance[col] = _measure_col(learn, dl, col, na)\n",
    "    for key, value in importance.items():\n",
    "        importance[key] = perm_func(base_error, value)\n",
    "    return OrderedDict(sorted(importance.items(), key=lambda kv: kv[1], reverse=True))"
   ]
  },
  {
   "cell_type": "code",
   "execution_count": null,
   "metadata": {},
   "outputs": [],
   "source": [
    "#export\n",
    "def _ord_dic_to_df(dict:OrderedDict): return pd.DataFrame([[k,v] for k,v in dict.items()], columns=['feature','importance'])"
   ]
  },
  {
   "cell_type": "code",
   "execution_count": null,
   "metadata": {},
   "outputs": [],
   "source": [
    "#export\n",
    "def _plot_importance(df:pd.DataFrame, limit=20, asc=False, **kwargs):\n",
    "    \"Plot importance with an optional limit to how many variables shown\"\n",
    "    df_copy = df.copy()\n",
    "    df_copy['feature'] = df_copy['feature'].str.slice(0,25)\n",
    "    df_copy = df_copy.sort_values(by='importance', ascending=asc)[:limit].sort_values(by='importance', ascending=not(asc))\n",
    "    ax = df_copy.plot.barh(x='feature', y='importance', sort_columns=True, **kwargs)\n",
    "    for p in ax.patches:\n",
    "        ax.annotate(f'{p.get_width():.4f}', ((p.get_width() * 1.005), p.get_y()  * 1.005))"
   ]
  },
  {
   "cell_type": "code",
   "execution_count": null,
   "metadata": {},
   "outputs": [
    {
     "data": {
      "text/markdown": [
       "<h4 id=\"TabularLearner.feature_importance\" class=\"doc_header\"><code>TabularLearner.feature_importance</code><a href=\"__main__.py#L2\" class=\"source_link\" style=\"float:right\">[source]</a></h4>\n",
       "\n",
       "> <code>TabularLearner.feature_importance</code>(**`x`**:`TabularLearner`, **`df`**=*`None`*, **`dl`**=*`None`*, **`perm_func`**=*`base_error`*, **`metric`**=*`accuracy`*, **`bs`**=*`None`*, **`reverse`**=*`True`*, **`plot`**=*`True`*)\n",
       "\n",
       "Calculate and plot the Feature Importance based on `df`"
      ],
      "text/plain": [
       "<IPython.core.display.Markdown object>"
      ]
     },
     "metadata": {},
     "output_type": "display_data"
    }
   ],
   "source": [
    "show_doc(TabularLearner.feature_importance)"
   ]
  },
  {
   "cell_type": "markdown",
   "metadata": {},
   "source": [
    "We can pass in sections of a `DataFrame`, but not a `DataLoader`. `perm_func` dictates how to calculate our importance, and `reverse` will determine how to sort the output"
   ]
  },
  {
   "cell_type": "code",
   "execution_count": null,
   "metadata": {},
   "outputs": [],
   "source": [
    "#export\n",
    "def _cramers_corrected_stat(cm):\n",
    "    \"Calculates Cramers V Statistic for categorical-categorical\"\n",
    "    try: chi2 = scipy.stats.chi2_contingency(cm)[0]\n",
    "    except: return 0.0\n",
    "    \n",
    "    if chi2 == 0: return 0.0\n",
    "    n = cm.sum().sum()\n",
    "    phi2 = chi2 / n\n",
    "    r,k = cm.shape\n",
    "    phi2corr = max(0, phi2 - ((k-1)*(r-1))/(n-1))\n",
    "    rcorr = r - ((r-1)**2)/(n-1)\n",
    "    kcorr = k - ((k-1)**2)/(n-1)\n",
    "    return np.sqrt(phi2corr/min((kcorr-1), (rcorr-1)))"
   ]
  },
  {
   "cell_type": "code",
   "execution_count": null,
   "metadata": {},
   "outputs": [],
   "source": [
    "#export\n",
    "def _get_cramer_v_matr(df:pd.DataFrame):\n",
    "    \"Calculate Cramers V statistic on every pair in `df`'s columns'\"\n",
    "    cols = list(df.columns)\n",
    "    \n",
    "    # Initialize dataframe with 1 so we won't need to fill pandas diagonal with ones :)\n",
    "    corrM = pd.DataFrame(1., columns=cols, index=cols)\n",
    "    for col1, col2 in progress_bar(list(itertools.combinations(cols, 2))):\n",
    "        corrM.loc[col1, col2] = corrM.loc[col2, col1] = _cramers_corrected_stat(pd.crosstab(df[col1], df[col2]))\n",
    "    \n",
    "    return corrM"
   ]
  },
  {
   "cell_type": "code",
   "execution_count": null,
   "metadata": {},
   "outputs": [],
   "source": [
    "#export\n",
    "@patch\n",
    "def get_features_corr(x:TabularLearner, df:Optional[pd.DataFrame]=None,\n",
    "                      cat_names=None, cont_names=None, cont_correlation='kendall'):\n",
    "    \"Return correlation matrix on `df` or train data\"\n",
    "\n",
    "    dl = x.dls.test_dl(df) if df is not None else x.dls.train\n",
    "    cat_names = ifnone(cat_names, dl.cat_names)\n",
    "    cont_names = ifnone(cont_names, dl.cont_names)\n",
    "    \n",
    "    # Compute correlation \n",
    "    cat_corr_matrix = _get_cramer_v_matr(dl.xs[cat_names])\n",
    "    cont_corr_matrix = dl.xs[cont_names].corr(method=cont_correlation)\n",
    "    return cat_corr_matrix, cont_corr_matrix"
   ]
  },
  {
   "cell_type": "code",
   "execution_count": null,
   "metadata": {},
   "outputs": [],
   "source": [
    "#export\n",
    "def _flatten_dataframe(df: pd.DataFrame) -> pd.Series:\n",
    "    data = {}\n",
    "    for col_name, s in df.items():\n",
    "        data.update({f\"{idx_name} vs {col_name}\": val for idx_name, val in s.items()})\n",
    "    return pd.Series(data)\n",
    "\n",
    "def _flatten_corr_dataframe(corr_matrix: pd.DataFrame) -> pd.Series:\n",
    "    \"\"\"Extract dataframe upper diagonal and flat it in a Serie\"\"\"\n",
    "    corr_data = {}\n",
    "    for i in range(corr_matrix.shape[0]):\n",
    "        for j in range(i+1, corr_matrix.shape[1]):\n",
    "            idx_name, col_name = corr_matrix.index[i], corr_matrix.index[j]\n",
    "            corr_data[f\"{idx_name} vs {col_name}\"] = corr_matrix.iloc[i,j]\n",
    "    return pd.Series(corr_data)"
   ]
  },
  {
   "cell_type": "code",
   "execution_count": null,
   "metadata": {},
   "outputs": [],
   "source": [
    "#export\n",
    "@delegates(get_features_corr)\n",
    "@patch\n",
    "def get_top_features_corr(x:TabularLearner, df:Optional[pd.DataFrame]=None, thresh:float=0.8, **kwargs):\n",
    "    \"Grabs top pairs of correlation with a given correlation matrix on `df` or train data filtered by `thresh`\"\n",
    "    cat_corr, cont_corr = x.get_features_corr(df=df, **kwargs)\n",
    "\n",
    "    cat_corr_flat = _flatten_corr_dataframe(cat_corr)\n",
    "    cat_corr_flat = cat_corr_flat[cat_corr_flat.abs() > thresh].sort_values(ascending=False)\n",
    "    \n",
    "    cont_corr_flat = _flatten_corr_dataframe(cont_corr)\n",
    "    # Get top coontinuos correlation ignoring if they are positive or negative correlated.\n",
    "    abs_cont_corr = cont_corr_flat.abs()\n",
    "    cont_corr_flat = cont_corr_flat[abs_cont_corr[abs_cont_corr > thresh].sort_values(ascending=False).index]\n",
    "    \n",
    "    return cat_corr_flat, cont_corr_flat\n",
    "\n",
    "@patch\n",
    "def get_top_corr_dict(x:TabularLearner, df, thresh:float=0.8):\n",
    "    \"Grabs top pairs of correlation with a given correlation matrix on `df` or train data filtered by `thresh`\"\n",
    "    warnings.warn('Deprecated method: use `get_top_features_corr`')\n",
    "    cat_corr, cont_corr = x.get_top_features_corr(df, thresh)\n",
    "    return {**cat_corr.to_dict(), **cont_corr.to_dict()}"
   ]
  },
  {
   "cell_type": "code",
   "execution_count": null,
   "metadata": {},
   "outputs": [
    {
     "data": {
      "text/markdown": [
       "<h4 id=\"TabularLearner.get_top_corr_dict\" class=\"doc_header\"><code>TabularLearner.get_top_corr_dict</code><a href=\"__main__.py#L18\" class=\"source_link\" style=\"float:right\">[source]</a></h4>\n",
       "\n",
       "> <code>TabularLearner.get_top_corr_dict</code>(**`x`**:`TabularLearner`, **`df`**, **`thresh`**:`float`=*`0.8`*)\n",
       "\n",
       "Grabs top pairs of correlation with a given correlation matrix on `df` or train data filtered by `thresh`"
      ],
      "text/plain": [
       "<IPython.core.display.Markdown object>"
      ]
     },
     "metadata": {},
     "output_type": "display_data"
    }
   ],
   "source": [
    "show_doc(TabularLearner.get_top_corr_dict)"
   ]
  },
  {
   "cell_type": "markdown",
   "metadata": {},
   "source": [
    "This along with `plot_dendrogram` and any helper functions along the way are based upon [this](https://github.com/Pak911/fastai-tabular-interpretation/blob/master/utils.py) by Pack911 on the fastai forums. "
   ]
  },
  {
   "cell_type": "code",
   "execution_count": null,
   "metadata": {},
   "outputs": [],
   "source": [
    "#export\n",
    "def _plot_dendrogram(corr_matrix: pd.DataFrame, leaf_font_size, ax=None):\n",
    "    # Take `abs` as we don't care if correlation is positive or negative.\n",
    "    corr_condensed = hc.distance.squareform(1-corr_matrix.abs().to_numpy())\n",
    "    z = hc.linkage(corr_condensed, method='average')\n",
    "    dendrogram = hc.dendrogram(z, labels=corr_matrix.columns, orientation='left', leaf_font_size=leaf_font_size, ax=ax)\n",
    "    return dendrogram"
   ]
  },
  {
   "cell_type": "code",
   "execution_count": null,
   "metadata": {},
   "outputs": [],
   "source": [
    "#export \n",
    "@delegates(get_features_corr)\n",
    "@patch\n",
    "def plot_dendrogram(x:TabularLearner, df: Optional[pd.DataFrame]=None, \n",
    "                    figsize=None, leaf_font_size=16, **kwargs):\n",
    "    \"Plots dendrogram for a calculated correlation matrix. `cont_correlation` could be 'spearman' or 'kendall'\"\n",
    "    \n",
    "    # Compute correlation \n",
    "    cat_corr_matrix, cont_corr_matrix = x.get_features_corr(df=df, **kwargs)\n",
    "    \n",
    "    # Plot dendrogram    \n",
    "    if figsize is None:\n",
    "        figsize = (15, 0.02*leaf_font_size*(len(cat_names)+len(cont_names)+3))\n",
    "    \n",
    "    # Use constrained_layout instead of plt.tight_layout() as it's the new form.\n",
    "    fig, axes = plt.subplots(2, 1, figsize=figsize, constrained_layout=True,\n",
    "                             gridspec_kw={'height_ratios': [cat_corr_matrix.shape[1], cont_corr_matrix.shape[1]]})\n",
    "    \n",
    "    _plot_dendrogram(cat_corr_matrix, leaf_font_size, ax=axes[0])\n",
    "    axes[0].set_title(\"Categorical features\", fontdict={'fontsize': leaf_font_size*1.1})\n",
    "    _plot_dendrogram(cont_corr_matrix.abs(), leaf_font_size, ax=axes[1])\n",
    "    axes[1].set_title(\"Continuous features\", fontdict={'fontsize': leaf_font_size*1.1})\n",
    "    \n",
    "    # plt.tight_layout()\n",
    "    plt.show()\n"
   ]
  },
  {
   "cell_type": "code",
   "execution_count": null,
   "metadata": {},
   "outputs": [
    {
     "data": {
      "text/markdown": [
       "<h4 id=\"TabularLearner.plot_dendrogram\" class=\"doc_header\"><code>TabularLearner.plot_dendrogram</code><a href=\"__main__.py#L2\" class=\"source_link\" style=\"float:right\">[source]</a></h4>\n",
       "\n",
       "> <code>TabularLearner.plot_dendrogram</code>(**`x`**:`TabularLearner`, **`df`**:`Optional`\\[`DataFrame`\\]=*`None`*, **`figsize`**=*`None`*, **`leaf_font_size`**=*`16`*, **\\*\\*`kwargs`**)\n",
       "\n",
       "Plots dendrogram for a calculated correlation matrix. `cont_correlation` could be 'spearman' or 'kendall'"
      ],
      "text/plain": [
       "<IPython.core.display.Markdown object>"
      ]
     },
     "metadata": {},
     "output_type": "display_data"
    }
   ],
   "source": [
    "show_doc(TabularLearner.plot_dendrogram)"
   ]
  },
  {
   "cell_type": "markdown",
   "metadata": {},
   "source": [
    "## Example Usage\n",
    "\n",
    "We'll run an example on the `ADULT_SAMPLE` dataset"
   ]
  },
  {
   "cell_type": "code",
   "execution_count": null,
   "metadata": {},
   "outputs": [],
   "source": [
    "from fastai.tabular.all import *"
   ]
  },
  {
   "cell_type": "code",
   "execution_count": null,
   "metadata": {},
   "outputs": [],
   "source": [
    "path = untar_data(URLs.ADULT_SAMPLE)"
   ]
  },
  {
   "cell_type": "code",
   "execution_count": null,
   "metadata": {},
   "outputs": [],
   "source": [
    "df = pd.read_csv(path/'adult.csv')\n",
    "splits = RandomSplitter()(range_of(df))\n",
    "cat_names = ['workclass', 'education', 'marital-status', 'occupation', 'relationship', 'race']\n",
    "cont_names = ['age', 'fnlwgt', 'education-num']\n",
    "procs = [Categorify, FillMissing, Normalize]\n",
    "y_names = 'salary'"
   ]
  },
  {
   "cell_type": "code",
   "execution_count": null,
   "metadata": {},
   "outputs": [],
   "source": [
    "to = TabularPandas(df, procs=procs, cat_names=cat_names, cont_names=cont_names,\n",
    "                   y_names=y_names, splits=splits)\n",
    "dls = to.dataloaders()"
   ]
  },
  {
   "cell_type": "code",
   "execution_count": null,
   "metadata": {},
   "outputs": [
    {
     "data": {
      "text/html": [
       "<table border=\"1\" class=\"dataframe\">\n",
       "  <thead>\n",
       "    <tr style=\"text-align: left;\">\n",
       "      <th>epoch</th>\n",
       "      <th>train_loss</th>\n",
       "      <th>valid_loss</th>\n",
       "      <th>accuracy</th>\n",
       "      <th>time</th>\n",
       "    </tr>\n",
       "  </thead>\n",
       "  <tbody>\n",
       "    <tr>\n",
       "      <td>0</td>\n",
       "      <td>0.360702</td>\n",
       "      <td>0.349341</td>\n",
       "      <td>0.834613</td>\n",
       "      <td>00:02</td>\n",
       "    </tr>\n",
       "    <tr>\n",
       "      <td>1</td>\n",
       "      <td>0.366281</td>\n",
       "      <td>0.351212</td>\n",
       "      <td>0.840448</td>\n",
       "      <td>00:02</td>\n",
       "    </tr>\n",
       "    <tr>\n",
       "      <td>2</td>\n",
       "      <td>0.360097</td>\n",
       "      <td>0.346613</td>\n",
       "      <td>0.842138</td>\n",
       "      <td>00:02</td>\n",
       "    </tr>\n",
       "  </tbody>\n",
       "</table>"
      ],
      "text/plain": [
       "<IPython.core.display.HTML object>"
      ]
     },
     "metadata": {},
     "output_type": "display_data"
    }
   ],
   "source": [
    "learn = tabular_learner(dls, layers=[200,100], metrics=accuracy)\n",
    "learn.fit(3)"
   ]
  },
  {
   "cell_type": "markdown",
   "metadata": {},
   "source": [
    "After fitting, let's first calculate the relative feature importance on the first 1,000 rows:"
   ]
  },
  {
   "cell_type": "code",
   "execution_count": null,
   "metadata": {},
   "outputs": [],
   "source": [
    "dl = learn.dls.test_dl(df)"
   ]
  },
  {
   "cell_type": "code",
   "execution_count": null,
   "metadata": {},
   "outputs": [
    {
     "name": "stdout",
     "output_type": "stream",
     "text": [
      "Calculating Permutation Importance\n"
     ]
    },
    {
     "data": {
      "text/html": [
       "\n",
       "    <div>\n",
       "        <style>\n",
       "            /* Turns off some styling */\n",
       "            progress {\n",
       "                /* gets rid of default border in Firefox and Opera. */\n",
       "                border: none;\n",
       "                /* Needs to be in here for Safari polyfill so background images work as expected. */\n",
       "                background-size: auto;\n",
       "            }\n",
       "            .progress-bar-interrupted, .progress-bar-interrupted::-webkit-progress-bar {\n",
       "                background: #F44336;\n",
       "            }\n",
       "        </style>\n",
       "      <progress value='9' class='' max='9' style='width:300px; height:20px; vertical-align: middle;'></progress>\n",
       "      100.00% [9/9 00:12<00:00]\n",
       "    </div>\n",
       "    "
      ],
      "text/plain": [
       "<IPython.core.display.HTML object>"
      ]
     },
     "metadata": {},
     "output_type": "display_data"
    },
    {
     "data": {
      "image/png": "[encoded data removed]",
      "text/plain": [
       "<Figure size 432x288 with 1 Axes>"
      ]
     },
     "metadata": {
      "needs_background": "light"
     },
     "output_type": "display_data"
    }
   ],
   "source": [
    "fi = learn.feature_importance(df=df)"
   ]
  },
  {
   "cell_type": "markdown",
   "metadata": {},
   "source": [
    "Next we'll calculate the correlation matrix, and then we will plot it's dendrogram:"
   ]
  },
  {
   "cell_type": "code",
   "execution_count": null,
   "metadata": {},
   "outputs": [
    {
     "data": {
      "text/html": [
       "\n",
       "    <div>\n",
       "        <style>\n",
       "            /* Turns off some styling */\n",
       "            progress {\n",
       "                /* gets rid of default border in Firefox and Opera. */\n",
       "                border: none;\n",
       "                /* Needs to be in here for Safari polyfill so background images work as expected. */\n",
       "                background-size: auto;\n",
       "            }\n",
       "            .progress-bar-interrupted, .progress-bar-interrupted::-webkit-progress-bar {\n",
       "                background: #F44336;\n",
       "            }\n",
       "        </style>\n",
       "      <progress value='21' class='' max='21' style='width:300px; height:20px; vertical-align: middle;'></progress>\n",
       "      100.00% [21/21 00:00<00:00]\n",
       "    </div>\n",
       "    "
      ],
      "text/plain": [
       "<IPython.core.display.HTML object>"
      ]
     },
     "metadata": {},
     "output_type": "display_data"
    },
    {
     "data": {
      "text/html": [
       "<div>\n",
       "<style scoped>\n",
       "    .dataframe tbody tr th:only-of-type {\n",
       "        vertical-align: middle;\n",
       "    }\n",
       "\n",
       "    .dataframe tbody tr th {\n",
       "        vertical-align: top;\n",
       "    }\n",
       "\n",
       "    .dataframe thead th {\n",
       "        text-align: right;\n",
       "    }\n",
       "</style>\n",
       "<table border=\"1\" class=\"dataframe\">\n",
       "  <thead>\n",
       "    <tr style=\"text-align: right;\">\n",
       "      <th></th>\n",
       "      <th>workclass</th>\n",
       "      <th>education</th>\n",
       "      <th>marital-status</th>\n",
       "      <th>occupation</th>\n",
       "      <th>relationship</th>\n",
       "      <th>race</th>\n",
       "      <th>education-num_na</th>\n",
       "    </tr>\n",
       "  </thead>\n",
       "  <tbody>\n",
       "    <tr>\n",
       "      <th>workclass</th>\n",
       "      <td>1.000000</td>\n",
       "      <td>0.095213</td>\n",
       "      <td>0.084015</td>\n",
       "      <td>0.395858</td>\n",
       "      <td>0.098540</td>\n",
       "      <td>0.053928</td>\n",
       "      <td>0.009770</td>\n",
       "    </tr>\n",
       "    <tr>\n",
       "      <th>education</th>\n",
       "      <td>0.095213</td>\n",
       "      <td>1.000000</td>\n",
       "      <td>0.089674</td>\n",
       "      <td>0.177001</td>\n",
       "      <td>0.119536</td>\n",
       "      <td>0.071079</td>\n",
       "      <td>0.000000</td>\n",
       "    </tr>\n",
       "    <tr>\n",
       "      <th>marital-status</th>\n",
       "      <td>0.084015</td>\n",
       "      <td>0.089674</td>\n",
       "      <td>1.000000</td>\n",
       "      <td>0.132006</td>\n",
       "      <td>0.487846</td>\n",
       "      <td>0.081651</td>\n",
       "      <td>0.000000</td>\n",
       "    </tr>\n",
       "    <tr>\n",
       "      <th>occupation</th>\n",
       "      <td>0.395858</td>\n",
       "      <td>0.177001</td>\n",
       "      <td>0.132006</td>\n",
       "      <td>1.000000</td>\n",
       "      <td>0.176972</td>\n",
       "      <td>0.075789</td>\n",
       "      <td>0.477560</td>\n",
       "    </tr>\n",
       "    <tr>\n",
       "      <th>relationship</th>\n",
       "      <td>0.098540</td>\n",
       "      <td>0.119536</td>\n",
       "      <td>0.487846</td>\n",
       "      <td>0.176972</td>\n",
       "      <td>1.000000</td>\n",
       "      <td>0.099792</td>\n",
       "      <td>0.015502</td>\n",
       "    </tr>\n",
       "    <tr>\n",
       "      <th>race</th>\n",
       "      <td>0.053928</td>\n",
       "      <td>0.071079</td>\n",
       "      <td>0.081651</td>\n",
       "      <td>0.075789</td>\n",
       "      <td>0.099792</td>\n",
       "      <td>1.000000</td>\n",
       "      <td>0.011085</td>\n",
       "    </tr>\n",
       "    <tr>\n",
       "      <th>education-num_na</th>\n",
       "      <td>0.009770</td>\n",
       "      <td>0.000000</td>\n",
       "      <td>0.000000</td>\n",
       "      <td>0.477560</td>\n",
       "      <td>0.015502</td>\n",
       "      <td>0.011085</td>\n",
       "      <td>1.000000</td>\n",
       "    </tr>\n",
       "  </tbody>\n",
       "</table>\n",
       "</div>"
      ],
      "text/plain": [
       "                  workclass  education  marital-status  occupation  \\\n",
       "workclass          1.000000   0.095213        0.084015    0.395858   \n",
       "education          0.095213   1.000000        0.089674    0.177001   \n",
       "marital-status     0.084015   0.089674        1.000000    0.132006   \n",
       "occupation         0.395858   0.177001        0.132006    1.000000   \n",
       "relationship       0.098540   0.119536        0.487846    0.176972   \n",
       "race               0.053928   0.071079        0.081651    0.075789   \n",
       "education-num_na   0.009770   0.000000        0.000000    0.477560   \n",
       "\n",
       "                  relationship      race  education-num_na  \n",
       "workclass             0.098540  0.053928          0.009770  \n",
       "education             0.119536  0.071079          0.000000  \n",
       "marital-status        0.487846  0.081651          0.000000  \n",
       "occupation            0.176972  0.075789          0.477560  \n",
       "relationship          1.000000  0.099792          0.015502  \n",
       "race                  0.099792  1.000000          0.011085  \n",
       "education-num_na      0.015502  0.011085          1.000000  "
      ]
     },
     "execution_count": null,
     "metadata": {},
     "output_type": "execute_result"
    }
   ],
   "source": [
    "cat_corr, cont_corr = learn.get_features_corr()\n",
    "cat_corr"
   ]
  },
  {
   "cell_type": "code",
   "execution_count": null,
   "metadata": {},
   "outputs": [
    {
     "data": {
      "text/html": [
       "<div>\n",
       "<style scoped>\n",
       "    .dataframe tbody tr th:only-of-type {\n",
       "        vertical-align: middle;\n",
       "    }\n",
       "\n",
       "    .dataframe tbody tr th {\n",
       "        vertical-align: top;\n",
       "    }\n",
       "\n",
       "    .dataframe thead th {\n",
       "        text-align: right;\n",
       "    }\n",
       "</style>\n",
       "<table border=\"1\" class=\"dataframe\">\n",
       "  <thead>\n",
       "    <tr style=\"text-align: right;\">\n",
       "      <th></th>\n",
       "      <th>age</th>\n",
       "      <th>fnlwgt</th>\n",
       "      <th>education-num</th>\n",
       "    </tr>\n",
       "  </thead>\n",
       "  <tbody>\n",
       "    <tr>\n",
       "      <th>age</th>\n",
       "      <td>1.000000</td>\n",
       "      <td>-0.053335</td>\n",
       "      <td>0.048340</td>\n",
       "    </tr>\n",
       "    <tr>\n",
       "      <th>fnlwgt</th>\n",
       "      <td>-0.053335</td>\n",
       "      <td>1.000000</td>\n",
       "      <td>-0.023358</td>\n",
       "    </tr>\n",
       "    <tr>\n",
       "      <th>education-num</th>\n",
       "      <td>0.048340</td>\n",
       "      <td>-0.023358</td>\n",
       "      <td>1.000000</td>\n",
       "    </tr>\n",
       "  </tbody>\n",
       "</table>\n",
       "</div>"
      ],
      "text/plain": [
       "                    age    fnlwgt  education-num\n",
       "age            1.000000 -0.053335       0.048340\n",
       "fnlwgt        -0.053335  1.000000      -0.023358\n",
       "education-num  0.048340 -0.023358       1.000000"
      ]
     },
     "execution_count": null,
     "metadata": {},
     "output_type": "execute_result"
    }
   ],
   "source": [
    "cont_corr"
   ]
  },
  {
   "cell_type": "markdown",
   "metadata": {},
   "source": [
    "Now, we only want top correlations"
   ]
  },
  {
   "cell_type": "code",
   "execution_count": null,
   "metadata": {},
   "outputs": [
    {
     "name": "stderr",
     "output_type": "stream",
     "text": [
      "/home/vferrer/miniconda3/envs/pytorch/lib/python3.7/site-packages/ipykernel_launcher.py:21: UserWarning: Deprecated method: use `get_top_features_corr`\n"
     ]
    },
    {
     "data": {
      "text/html": [
       "\n",
       "    <div>\n",
       "        <style>\n",
       "            /* Turns off some styling */\n",
       "            progress {\n",
       "                /* gets rid of default border in Firefox and Opera. */\n",
       "                border: none;\n",
       "                /* Needs to be in here for Safari polyfill so background images work as expected. */\n",
       "                background-size: auto;\n",
       "            }\n",
       "            .progress-bar-interrupted, .progress-bar-interrupted::-webkit-progress-bar {\n",
       "                background: #F44336;\n",
       "            }\n",
       "        </style>\n",
       "      <progress value='21' class='' max='21' style='width:300px; height:20px; vertical-align: middle;'></progress>\n",
       "      100.00% [21/21 00:00<00:00]\n",
       "    </div>\n",
       "    "
      ],
      "text/plain": [
       "<IPython.core.display.HTML object>"
      ]
     },
     "metadata": {},
     "output_type": "display_data"
    },
    {
     "data": {
      "text/plain": [
       "{'occupation vs education-num_na': 0.4926685410562291,\n",
       " 'marital-status vs relationship': 0.4878118703234346,\n",
       " 'workclass vs occupation': 0.39672308855489463}"
      ]
     },
     "execution_count": null,
     "metadata": {},
     "output_type": "execute_result"
    }
   ],
   "source": [
    "corr_dict = learn.get_top_corr_dict(df, thresh=0.3); corr_dict"
   ]
  },
  {
   "cell_type": "code",
   "execution_count": null,
   "metadata": {},
   "outputs": [
    {
     "data": {
      "text/html": [
       "\n",
       "    <div>\n",
       "        <style>\n",
       "            /* Turns off some styling */\n",
       "            progress {\n",
       "                /* gets rid of default border in Firefox and Opera. */\n",
       "                border: none;\n",
       "                /* Needs to be in here for Safari polyfill so background images work as expected. */\n",
       "                background-size: auto;\n",
       "            }\n",
       "            .progress-bar-interrupted, .progress-bar-interrupted::-webkit-progress-bar {\n",
       "                background: #F44336;\n",
       "            }\n",
       "        </style>\n",
       "      <progress value='21' class='' max='21' style='width:300px; height:20px; vertical-align: middle;'></progress>\n",
       "      100.00% [21/21 00:00<00:00]\n",
       "    </div>\n",
       "    "
      ],
      "text/plain": [
       "<IPython.core.display.HTML object>"
      ]
     },
     "metadata": {},
     "output_type": "display_data"
    },
    {
     "data": {
      "text/plain": [
       "(marital-status vs relationship    0.487846\n",
       " occupation vs education-num_na    0.477560\n",
       " workclass vs occupation           0.395858\n",
       " dtype: float64,\n",
       " Series([], dtype: float64))"
      ]
     },
     "execution_count": null,
     "metadata": {},
     "output_type": "execute_result"
    }
   ],
   "source": [
    "top_cat_corr, top_cont_corr = learn.get_top_features_corr(thresh=0.3); corr_dict\n",
    "top_cat_corr, top_cont_corr"
   ]
  },
  {
   "cell_type": "code",
   "execution_count": null,
   "metadata": {},
   "outputs": [
    {
     "data": {
      "text/html": [
       "\n",
       "    <div>\n",
       "        <style>\n",
       "            /* Turns off some styling */\n",
       "            progress {\n",
       "                /* gets rid of default border in Firefox and Opera. */\n",
       "                border: none;\n",
       "                /* Needs to be in here for Safari polyfill so background images work as expected. */\n",
       "                background-size: auto;\n",
       "            }\n",
       "            .progress-bar-interrupted, .progress-bar-interrupted::-webkit-progress-bar {\n",
       "                background: #F44336;\n",
       "            }\n",
       "        </style>\n",
       "      <progress value='21' class='' max='21' style='width:300px; height:20px; vertical-align: middle;'></progress>\n",
       "      100.00% [21/21 00:00<00:00]\n",
       "    </div>\n",
       "    "
      ],
      "text/plain": [
       "<IPython.core.display.HTML object>"
      ]
     },
     "metadata": {},
     "output_type": "display_data"
    },
    {
     "data": {
      "image/png": "[encoded data removed]",
      "text/plain": [
       "<Figure size 1080x299.52 with 2 Axes>"
      ]
     },
     "metadata": {
      "needs_background": "light"
     },
     "output_type": "display_data"
    }
   ],
   "source": [
    "learn.plot_dendrogram()"
   ]
  },
  {
   "cell_type": "code",
   "execution_count": null,
   "metadata": {},
   "outputs": [],
   "source": []
  }
 ],
 "metadata": {
  "kernelspec": {
   "display_name": "Python 3",
   "language": "python",
   "name": "python3"
  }
 },
 "nbformat": 4,
 "nbformat_minor": 4
}
