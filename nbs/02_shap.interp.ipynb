{
 "cells": [
  {
   "cell_type": "code",
   "execution_count": null,
   "metadata": {},
   "outputs": [],
   "source": [
    "# default_exp tabular.shap.interp"
   ]
  },
  {
   "cell_type": "markdown",
   "metadata": {},
   "source": [
    "# shap.interp\n",
    "> This module contains the base for `SHAP` interpretation."
   ]
  },
  {
   "cell_type": "code",
   "execution_count": null,
   "metadata": {},
   "outputs": [],
   "source": [
    "#hide\n",
    "from nbdev.showdoc import *"
   ]
  },
  {
   "cell_type": "code",
   "execution_count": null,
   "metadata": {},
   "outputs": [],
   "source": [
    "#export\n",
    "from fastinference.tabular.shap.core import _prepare_data, _prepare_test_data, _predict\n",
    "import shap\n",
    "from fastai.tabular.all import *"
   ]
  },
  {
   "cell_type": "markdown",
   "metadata": {},
   "source": [
    "First let's train a model to analyze"
   ]
  },
  {
   "cell_type": "code",
   "execution_count": null,
   "metadata": {},
   "outputs": [],
   "source": [
    "path = untar_data(URLs.ADULT_SAMPLE)\n",
    "df = pd.read_csv(path/'adult.csv')"
   ]
  },
  {
   "cell_type": "code",
   "execution_count": null,
   "metadata": {},
   "outputs": [],
   "source": [
    "dep_var = 'salary'\n",
    "cat_names = ['workclass', 'education', 'marital-status', 'occupation', 'relationship', 'race']\n",
    "cont_names = ['age', 'fnlwgt', 'education-num']\n",
    "procs = [Categorify, FillMissing, Normalize]"
   ]
  },
  {
   "cell_type": "code",
   "execution_count": null,
   "metadata": {},
   "outputs": [],
   "source": [
    "splits = IndexSplitter(list(range(800,1000)))(range_of(df))\n",
    "to = TabularPandas(df, procs, cat_names, cont_names, y_names=\"salary\", splits=splits)\n",
    "dls = to.dataloaders()"
   ]
  },
  {
   "cell_type": "markdown",
   "metadata": {},
   "source": [
    "And fit it"
   ]
  },
  {
   "cell_type": "code",
   "execution_count": null,
   "metadata": {},
   "outputs": [],
   "source": [
    "learn = tabular_learner(dls, layers=[200,100], metrics=accuracy)\n",
    "learn.fit(1, 1e-2)"
   ]
  },
  {
   "cell_type": "code",
   "execution_count": null,
   "metadata": {},
   "outputs": [],
   "source": [
    "#export\n",
    "@delegates(shap.SamplingExplainer)\n",
    "class ShapInterpretation():\n",
    "    \"Base interpereter to use the `SHAP` interpretation library\"\n",
    "    def __init__(self, learn:TabularLearner, test_data=None, l1_reg='auto', n_samples=128, max_train_samples=100000, **kwargs):\n",
    "        \"Initialize `ShapInterpretation` with a Learner, test_data, `n_samples`, `l1_reg`, and optional **kwargs passed to `shap.SamplingExplainer`\"\n",
    "        self.model = learn.model\n",
    "        self.dls = learn.dls\n",
    "        self.class_names = learn.dls.vocab if hasattr(learn.dls, 'vocab') else None # only defined for classification problems\n",
    "        self.train_data = _prepare_data(learn.dls.train, max_train_samples)\n",
    "        self.test_data = _prepare_test_data(learn, test_data, n_samples)\n",
    "        pred_func = partial(_predict, learn)\n",
    "        self.explainer = shap.SamplingExplainer(pred_func, self.train_data, **kwargs)\n",
    "        self.shap_vals = self.explainer.shap_values(self.test_data, l1_reg=l1_reg)\n",
    "        self.is_multi_output = isinstance(self.shap_vals, list)\n",
    "\n",
    "    def decision_plot(self, class_id=0, row_idx=-1, **kwargs):\n",
    "        \"Visualize model decision using cumulative `SHAP` values.\"\n",
    "        shap_vals, exp_val = _get_values(self, class_id)\n",
    "        n_rows = shap_vals.shape[0]\n",
    "        if row_idx == -1:\n",
    "            print(f'Displaying rows 0-9 of {n_rows} (use `row_idx` to specify another row)')\n",
    "            return shap.decision_plot(exp_val, shap_vals[:10], self.test_data.iloc[:10], **kwargs)\n",
    "        print(f'Displaying row {row_idx} of {n_rows} (use `row_idx` to specify another row)')\n",
    "        return shap.decision_plot(exp_val, shap_vals[row_idx], self.test_data.iloc[row_idx], **kwargs)\n",
    "\n",
    "    def dependence_plot(self, variable_name:str=\"\", class_id=0, **kwargs):\n",
    "        \"Plots value of variable on the x-axis and the SHAP value of the same variable on the y-axis\"\n",
    "        if variable_name is \"\":\n",
    "            raise ValueError('No variable passed in for `variable_name`')\n",
    "        shap_vals, _ = _get_values(self, class_id)\n",
    "        return shap.dependence_plot(variable_name, shap_vals, self.test_data, **kwargs)\n",
    "\n",
    "    def force_plot(self, class_id=0, matplotlib=False, **kwargs):\n",
    "        \"Visualize the `SHAP` values with additive force layout\"\n",
    "        shap_vals, exp_val = _get_values(self, class_id)\n",
    "        if not matplotlib: shap.initjs()\n",
    "        return shap.force_plot(exp_val, shap_vals, self.test_data, matplotlib=matplotlib, **kwargs)\n",
    "\n",
    "    def summary_plot(self, **kwargs):\n",
    "        \"Displays `SHAP` values which can be interperated for feature importance\"\n",
    "        return shap.summary_plot(self.shap_vals, self.test_data, class_names=self.class_names, **kwargs)\n",
    "\n",
    "    def waterfall_plot(self, row_idx=None, class_id=0, **kwargs):\n",
    "        \"Plots explaination of single prediction as waterfall plot\"\n",
    "        shap_vals, exp_val = _get_values(self, class_id)\n",
    "        n_rows = shap_vals.shape[0]\n",
    "        row_idx = random.randint(0, n_rows-1) if row_idx is None else row_idx\n",
    "        print(f'Displaying row {row_idx} of {n_rows} (use `row_idx` to specify another row)')\n",
    "        feat_names = self.test_data.columns\n",
    "        return shap.waterfall_plot(exp_val, shap_vals[row_idx,:], feature_names=feat_names, **kwargs)"
   ]
  },
  {
   "cell_type": "code",
   "execution_count": null,
   "metadata": {},
   "outputs": [],
   "source": [
    "#export\n",
    "def _get_class_info(interp:ShapInterpretation, class_id):\n",
    "    \"Returns class name associated with index, or vice-versa\"\n",
    "    if isinstance(class_id, int): class_idx, class_name = class_id, interp.class_names[class_id]\n",
    "    else: class_idx, class_name = interp.class_names.o2i[class_id], class_id\n",
    "    return (class_name, class_idx)"
   ]
  },
  {
   "cell_type": "code",
   "execution_count": null,
   "metadata": {},
   "outputs": [],
   "source": [
    "#export\n",
    "def _get_values(interp:ShapInterpretation, class_id=0):\n",
    "    \"Returns `shap_value` and `expected_value`\"\n",
    "    shap_vals = interp.shap_vals\n",
    "    exp_vals = interp.explainer.expected_value\n",
    "    if interp.is_multi_output:\n",
    "        (class_name, class_idx) = _get_class_info(interp, class_id)\n",
    "        print(f\"Classification model detected, displaying score for the class {class_name}.\")\n",
    "        print(\"(use `class_id` to specify another class)\")\n",
    "        return (shap_vals[class_idx], exp_vals[class_idx])\n",
    "    else:\n",
    "        exp_vals = exp_vals[0]\n",
    "        return (shap_vals, exp_vals)"
   ]
  },
  {
   "cell_type": "markdown",
   "metadata": {},
   "source": [
    "> This class allows you to utilize various methods within the `SHAP` interpretation library. Currently `summary_plot`, `dependence_plot`, `waterfall_plot`, `force_plot`, and `decision_plot` are supported. \n",
    "  * `test_data` should be either a `Pandas` dataframe or a `TabularDataLoader`. If not, 100 random rows of the training data will be used instead.\n",
    "  * `link` can either be \"identity\" or \"logit\". A generalized linear model link to connect the feature importance values to the model output. Since the feature importance values, phi, sum up to the model output, it often makes sense to connect them to the ouput with a link function where link(outout) = sum(phi). If the model output is a probability then the LogitLink link function makes the feature importance values have log-odds units.\n",
    "  * `n_samples` can either be \"auto\" or an integer value. This is the number of times to re-evaluate the model when explaining each predictions. More samples leads to lower variance estimations of the `SHAP` values\n",
    "  * `l1_reg` can be: an integer value representing the number of features, \"auto\", \"aic\", \"bic\", or a float value. The l1 regularization to use for feature selection (the estimation procedure is based on a debiased lasso). The auto option currently uses \"aic\" when less that 20% of the possible sample space is enumerated, otherwise it uses no regularization."
   ]
  },
  {
   "cell_type": "code",
   "execution_count": null,
   "metadata": {},
   "outputs": [],
   "source": [
    "exp = ShapInterpretation(learn)"
   ]
  },
  {
   "cell_type": "code",
   "execution_count": null,
   "metadata": {},
   "outputs": [],
   "source": [
    "exp = ShapInterpretation(learn, df.iloc[:2])"
   ]
  },
  {
   "cell_type": "code",
   "execution_count": null,
   "metadata": {},
   "outputs": [],
   "source": [
    "exp = ShapInterpretation(learn, learn.dls.test_dl(df.iloc[:100]))"
   ]
  },
  {
   "cell_type": "markdown",
   "metadata": {},
   "source": [
    "### `decision_plot`\n",
    "\n",
    "> Visualizes a model's decisions using cumulative `SHAP` values. Accepts a `class_id` which is used to indicate the class of interest for a classification model. It can either be an `int` or `str` representation for a class of choice. Each colored line in the plot represents the model's prediction for a single observation. If no index is passed in to use from the data, it will default to the first ten samples on the test set. **Note: plotting too many samples at once can make the plot illegible.** For an up-to-date list of parameters, see [here](https://github.com/slundberg/shap/blob/master/shap/plots/decision.py) and for more information see [here](https://github.com/slundberg/shap/blob/master/notebooks/plots/decision_plot.ipynb)"
   ]
  },
  {
   "cell_type": "code",
   "execution_count": null,
   "metadata": {},
   "outputs": [],
   "source": [
    "exp.decision_plot(class_id=0, row_idx=10)"
   ]
  },
  {
   "cell_type": "markdown",
   "metadata": {},
   "source": [
    "### `dependence_plot`\n",
    "> Plots the value of a variable on the x-axis and the `SHAP` value of the same variable on the y-axis. Accepts a `class_id` and `variable_name`. `class_id`  is used to indicate the class of interest for a classification model. It can either be an `int` or `str` representation for a class of choice. This plot shows how the model depends on the given variable. Vertical dispersion of the datapoints represent interaction effects. Gray ticks along the y-axis are datapoints where the variable's values were `NaN`. For an up-to-date list of parameters, see [here](https://github.com/slundberg/shap/blob/master/shap/plots/dependence.py) and for more information see [here](https://github.com/slundberg/shap/blob/master/notebooks/plots/dependence_plot.ipynb)"
   ]
  },
  {
   "cell_type": "code",
   "execution_count": null,
   "metadata": {},
   "outputs": [],
   "source": [
    "exp.dependence_plot('age', class_id=0)"
   ]
  },
  {
   "cell_type": "markdown",
   "metadata": {},
   "source": [
    "### `force_plot`\n",
    "> Visualizes the `SHAP` values with an added force layout. Accepts a `class_id` which is used to indicate the class of interest for a classification model. It can either be an `int` or `str` representation for a class of choice. `matplotlib` determines if it should be shown using matplotlib or in JavaScript. For an up-to-date list of parameters, see [here](https://github.com/slundberg/shap/blob/master/shap/plots/force.py)"
   ]
  },
  {
   "cell_type": "code",
   "execution_count": null,
   "metadata": {},
   "outputs": [],
   "source": [
    "exp.force_plot(class_id=0)"
   ]
  },
  {
   "cell_type": "markdown",
   "metadata": {},
   "source": [
    "### `summary_plot`\n",
    "> Displays the SHAP values (which can be interpreted for feature importance)\n",
    "For an up-to-date list of parameters, see [here](https://github.com/slundberg/shap/blob/master/shap/plots/summary.py)"
   ]
  },
  {
   "cell_type": "code",
   "execution_count": null,
   "metadata": {},
   "outputs": [],
   "source": [
    "exp.summary_plot()"
   ]
  },
  {
   "cell_type": "markdown",
   "metadata": {},
   "source": [
    "### `waterfall_plot`\n",
    "> Plots an explanation of a single prediction as a waterfall plot. Accepts a `row_index` and `class_id`. `row_index` is the index of the row chosen in `test_data` to be analyzed, which defaults to zero. Accepts a `class_id` which is used to indicate the class of interest for a classification model. It can either be an `int` or `str` representation for a class of choice. For an up-to-date list of parameters, see [here](https://github.com/slundberg/shap/blob/master/shap/plots/waterfall.py)"
   ]
  },
  {
   "cell_type": "code",
   "execution_count": null,
   "metadata": {},
   "outputs": [],
   "source": [
    "exp.waterfall_plot(row_idx=10)"
   ]
  }
 ],
 "metadata": {
  "kernelspec": {
   "display_name": "Python 3",
   "language": "python",
   "name": "python3"
  }
 },
 "nbformat": 4,
 "nbformat_minor": 4
}
